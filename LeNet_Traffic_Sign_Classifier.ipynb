{
 "cells": [
  {
   "cell_type": "markdown",
   "metadata": {},
   "source": [
    "# Self-Driving Car Engineer Nanodegree\n",
    "\n",
    "## Deep Learning\n",
    "\n",
    "## Project: Build a Traffic Sign Recognition Classifier\n",
    "\n",
    "In this notebook, a template is provided for you to implement your functionality in stages, which is required to successfully complete this project. If additional code is required that cannot be included in the notebook, be sure that the Python code is successfully imported and included in your submission if necessary. \n",
    "\n",
    "> **Note**: Once you have completed all of the code implementations, you need to finalize your work by exporting the iPython Notebook as an HTML document. Before exporting the notebook to html, all of the code cells need to have been run so that reviewers can see the final implementation and output. You can then export the notebook by using the menu above and navigating to  \\n\",\n",
    "    \"**File -> Download as -> HTML (.html)**. Include the finished document along with this notebook as your submission. \n",
    "\n",
    "In addition to implementing code, there is a writeup to complete. The writeup should be completed in a separate file, which can be either a markdown file or a pdf document. There is a [write up template](https://github.com/udacity/CarND-Traffic-Sign-Classifier-Project/blob/master/writeup_template.md) that can be used to guide the writing process. Completing the code template and writeup template will cover all of the [rubric points](https://review.udacity.com/#!/rubrics/481/view) for this project.\n",
    "\n",
    "The [rubric](https://review.udacity.com/#!/rubrics/481/view) contains \"Stand Out Suggestions\" for enhancing the project beyond the minimum requirements. The stand out suggestions are optional. If you decide to pursue the \"stand out suggestions\", you can include the code in this Ipython notebook and also discuss the results in the writeup file.\n",
    "\n",
    "\n",
    ">**Note:** Code and Markdown cells can be executed using the **Shift + Enter** keyboard shortcut. In addition, Markdown cells can be edited by typically double-clicking the cell to enter edit mode."
   ]
  },
  {
   "cell_type": "markdown",
   "metadata": {},
   "source": [
    "---\n",
    "## Step 0: Load The Data"
   ]
  },
  {
   "cell_type": "code",
   "execution_count": 1,
   "metadata": {
    "collapsed": true
   },
   "outputs": [],
   "source": [
    "# Load pickled data\n",
    "import pickle\n",
    "\n",
    "# TODO: Fill this in based on where you saved the training and testing data\n",
    "\n",
    "training_file = 'traffic-signs-data/train.p'\n",
    "validation_file = 'traffic-signs-data/valid.p'\n",
    "testing_file = 'traffic-signs-data/test.p'\n",
    "\n",
    "with open(training_file, mode='rb') as f:\n",
    "    train = pickle.load(f)\n",
    "with open(validation_file, mode='rb') as f:\n",
    "    valid = pickle.load(f)\n",
    "with open(testing_file, mode='rb') as f:\n",
    "    test = pickle.load(f)\n",
    "    \n",
    "X_train, y_train = train['features'], train['labels']\n",
    "X_valid, y_valid = valid['features'], valid['labels']\n",
    "X_test, y_test = test['features'], test['labels']"
   ]
  },
  {
   "cell_type": "markdown",
   "metadata": {},
   "source": [
    "---\n",
    "\n",
    "## Step 1: Dataset Summary & Exploration\n",
    "\n",
    "The pickled data is a dictionary with 4 key/value pairs:\n",
    "\n",
    "- `'features'` is a 4D array containing raw pixel data of the traffic sign images, (num examples, width, height, channels).\n",
    "- `'labels'` is a 1D array containing the label/class id of the traffic sign. The file `signnames.csv` contains id -> name mappings for each id.\n",
    "- `'sizes'` is a list containing tuples, (width, height) representing the original width and height the image.\n",
    "- `'coords'` is a list containing tuples, (x1, y1, x2, y2) representing coordinates of a bounding box around the sign in the image. **THESE COORDINATES ASSUME THE ORIGINAL IMAGE. THE PICKLED DATA CONTAINS RESIZED VERSIONS (32 by 32) OF THESE IMAGES**\n",
    "\n",
    "Complete the basic data summary below. Use python, numpy and/or pandas methods to calculate the data summary rather than hard coding the results. For example, the [pandas shape method](http://pandas.pydata.org/pandas-docs/stable/generated/pandas.DataFrame.shape.html) might be useful for calculating some of the summary results. "
   ]
  },
  {
   "cell_type": "markdown",
   "metadata": {},
   "source": [
    "### Provide a Basic Summary of the Data Set Using Python, Numpy and/or Pandas"
   ]
  },
  {
   "cell_type": "code",
   "execution_count": 2,
   "metadata": {},
   "outputs": [
    {
     "name": "stdout",
     "output_type": "stream",
     "text": [
      "Number of training examples = 34799\n",
      "Number of validation examples = 4410\n",
      "Number of testing examples = 12630\n",
      "Image data shape = (32, 32, 3)\n",
      "Number of classes = 43\n"
     ]
    }
   ],
   "source": [
    "### Replace each question mark with the appropriate value. \n",
    "### Use python, pandas or numpy methods rather than hard coding the results\n",
    "\n",
    "# TODO: Number of training examples\n",
    "n_train = train['features'].shape[0]\n",
    "\n",
    "# TODO: Number of validation examples\n",
    "n_validation = valid['features'].shape[0]\n",
    "\n",
    "# TODO: Number of testing examples.\n",
    "n_test = test['features'].shape[0]\n",
    "\n",
    "# TODO: What's the shape of an traffic sign image?\n",
    "image_shape = train['features'].shape[1:]\n",
    "\n",
    "# TODO: How many unique classes/labels there are in the dataset.\n",
    "x_labels = set([i for i in train['labels']])\n",
    "n_classes = len(x_labels)\n",
    "\n",
    "print(\"Number of training examples =\", n_train)\n",
    "print(\"Number of validation examples =\", n_validation)\n",
    "print(\"Number of testing examples =\", n_test)\n",
    "print(\"Image data shape =\", image_shape)\n",
    "print(\"Number of classes =\", n_classes)"
   ]
  },
  {
   "cell_type": "markdown",
   "metadata": {},
   "source": [
    "### Include an exploratory visualization of the dataset"
   ]
  },
  {
   "cell_type": "markdown",
   "metadata": {},
   "source": [
    "Visualize the German Traffic Signs Dataset using the pickled file(s). This is open ended, suggestions include: plotting traffic sign images, plotting the count of each sign, etc. \n",
    "\n",
    "The [Matplotlib](http://matplotlib.org/) [examples](http://matplotlib.org/examples/index.html) and [gallery](http://matplotlib.org/gallery.html) pages are a great resource for doing visualizations in Python.\n",
    "\n",
    "**NOTE:** It's recommended you start with something simple first. If you wish to do more, come back to it after you've completed the rest of the sections. It can be interesting to look at the distribution of classes in the training, validation and test set. Is the distribution the same? Are there more examples of some classes than others?"
   ]
  },
  {
   "cell_type": "code",
   "execution_count": 3,
   "metadata": {
    "collapsed": true
   },
   "outputs": [],
   "source": [
    "### Data exploration visualization code goes here.\n",
    "### Feel free to use as many code cells as needed.\n",
    "### Import the necessary libraries\n",
    "import numpy as np\n",
    "import random\n",
    "from collections import Counter\n",
    "import matplotlib.pyplot as plt\n",
    "import matplotlib.gridspec as gridspec\n",
    "import matplotlib.image as mpimg\n",
    "import os\n",
    "import cv2\n",
    "# Visualizations will be shown in the notebook.\n",
    "%matplotlib inline"
   ]
  },
  {
   "cell_type": "markdown",
   "metadata": {},
   "source": [
    "#### 1. Class Distribution in the dataset"
   ]
  },
  {
   "cell_type": "code",
   "execution_count": 4,
   "metadata": {},
   "outputs": [
    {
     "data": {
      "image/png": "[encoded data removed]",
      "text/plain": [
       "<matplotlib.figure.Figure at 0x21519c9e710>"
      ]
     },
     "metadata": {},
     "output_type": "display_data"
    }
   ],
   "source": [
    "## Create counter for each label to be used later\n",
    "train_counts = Counter(y_train)\n",
    "valid_counts = Counter(y_valid)\n",
    "test_counts = Counter(y_test)\n",
    "\n",
    "## Create histograms \n",
    "## for comparing class distribution\n",
    "gs = gridspec.GridSpec(3, 1)\n",
    "\n",
    "ax1 = plt.subplot(gs[0])\n",
    "ax1.hist(y_train, bins=100)\n",
    "ax1.xaxis.set_visible(False)\n",
    "plt.ylabel('Training')\n",
    "plt.title('Class Distribution in the Dataset')\n",
    "\n",
    "ax2 = plt.subplot(gs[1])\n",
    "ax2.hist(y_valid, bins=100)\n",
    "ax2.xaxis.set_visible(False)\n",
    "plt.ylabel('Validation')\n",
    "\n",
    "ax3 = plt.subplot(gs[2])\n",
    "ax3.hist(y_test, bins=100)\n",
    "plt.ylabel('Test')\n",
    "plt.xlabel('Classes')\n",
    "plt.show()"
   ]
  },
  {
   "cell_type": "markdown",
   "metadata": {},
   "source": [
    "The above plot shows the class distribution in the training, validation and test datasets.The distribution is similar across datasets, although we clearly see a skew in terms of the number of examples from each of the 43 classes in each dataset. Let's look at some of the images below."
   ]
  },
  {
   "cell_type": "markdown",
   "metadata": {},
   "source": [
    "#### 2. Sample images from the training dataset"
   ]
  },
  {
   "cell_type": "code",
   "execution_count": 5,
   "metadata": {},
   "outputs": [
    {
     "data": {
      "image/png": "[encoded data removed]",
      "text/plain": [
       "<matplotlib.figure.Figure at 0x21518c6be10>"
      ]
     },
     "metadata": {},
     "output_type": "display_data"
    }
   ],
   "source": [
    "### Plot some sample images from the training dataset\n",
    "plt.figure(1, figsize=(6,6))\n",
    "plt.suptitle('Some sample images from the Training dataset')\n",
    "for i in range(9):\n",
    "    plt.subplot(3,3,i+1)\n",
    "    plt.imshow(random.choice(X_train[y_train == i*4]))\n",
    "    plt.title('Class: {}'.format(i*4))\n",
    "    plt.axis('off')"
   ]
  },
  {
   "cell_type": "markdown",
   "metadata": {},
   "source": [
    "#### 3. Plot some special cases"
   ]
  },
  {
   "cell_type": "markdown",
   "metadata": {},
   "source": [
    "Let's look at some images from the training dataset that have the minimum counts in the whole set i.e. a particular class that appears to have the minimum representative examples in the dataset.\n",
    "\n",
    "We don't yet know how our model performs on these classes; maybe it performs well already and maybe it doesn't. We'll discuss later."
   ]
  },
  {
   "cell_type": "code",
   "execution_count": 6,
   "metadata": {},
   "outputs": [
    {
     "data": {
      "image/png": "[encoded data removed]",
      "text/plain": [
       "<matplotlib.figure.Figure at 0x2151c57c9b0>"
      ]
     },
     "metadata": {},
     "output_type": "display_data"
    }
   ],
   "source": [
    "## Print the under-represented classes from each set\n",
    "from sklearn.utils import shuffle\n",
    "\n",
    "## Collect the min number of counts for classes in training and validation sets\n",
    "min_train_cts = min(train_counts.values())\n",
    "min_valid_cts = min(valid_counts.values())\n",
    "\n",
    "## Find the indices of these min_count classes\n",
    "min_train_ind = [key for key, value in train_counts.items() if value == min_train_cts]\n",
    "min_valid_ind = [key for key, value in valid_counts.items() if value == min_valid_cts]\n",
    "\n",
    "## Plot some images\n",
    "plt.figure(1, figsize=(6,6))\n",
    "plt.suptitle('Some images having classes with low counts in the Training dataset')\n",
    "for i in range(9):\n",
    "    cl = shuffle(min_train_ind)\n",
    "    plt.subplot(3,3,i+1)\n",
    "    plt.imshow(random.choice(X_train[y_train == cl[0]]))\n",
    "    plt.title('Class: {}'.format(cl[0]))\n",
    "    plt.axis('off')"
   ]
  },
  {
   "cell_type": "markdown",
   "metadata": {},
   "source": [
    "----\n",
    "\n",
    "## Step 2: Design and Test a Model Architecture\n",
    "\n",
    "Design and implement a deep learning model that learns to recognize traffic signs. Train and test your model on the [German Traffic Sign Dataset](http://benchmark.ini.rub.de/?section=gtsrb&subsection=dataset).\n",
    "\n",
    "The LeNet-5 implementation shown in the [classroom](https://classroom.udacity.com/nanodegrees/nd013/parts/fbf77062-5703-404e-b60c-95b78b2f3f9e/modules/6df7ae49-c61c-4bb2-a23e-6527e69209ec/lessons/601ae704-1035-4287-8b11-e2c2716217ad/concepts/d4aca031-508f-4e0b-b493-e7b706120f81) at the end of the CNN lesson is a solid starting point. You'll have to change the number of classes and possibly the preprocessing, but aside from that it's plug and play! \n",
    "\n",
    "With the LeNet-5 solution from the lecture, you should expect a validation set accuracy of about 0.89. To meet specifications, the validation set accuracy will need to be at least 0.93. It is possible to get an even higher accuracy, but 0.93 is the minimum for a successful project submission. \n",
    "\n",
    "There are various aspects to consider when thinking about this problem:\n",
    "\n",
    "- Neural network architecture (is the network over or underfitting?)\n",
    "- Play around preprocessing techniques (normalization, rgb to grayscale, etc)\n",
    "- Number of examples per label (some have more than others).\n",
    "- Generate fake data.\n",
    "\n",
    "Here is an example of a [published baseline model on this problem](http://yann.lecun.com/exdb/publis/pdf/sermanet-ijcnn-11.pdf). It's not required to be familiar with the approach used in the paper but, it's good practice to try to read papers like these."
   ]
  },
  {
   "cell_type": "markdown",
   "metadata": {},
   "source": [
    "### Pre-process the Data Set (normalization, grayscale, etc.)"
   ]
  },
  {
   "cell_type": "markdown",
   "metadata": {},
   "source": [
    "Minimally, the image data should be normalized so that the data has mean zero and equal variance. For image data, `(pixel - 128)/ 128` is a quick way to approximately normalize the data and can be used in this project. \n",
    "\n",
    "Other pre-processing steps are optional. You can try different techniques to see if it improves performance. \n",
    "\n",
    "Use the code cell (or multiple code cells, if necessary) to implement the first step of your project."
   ]
  },
  {
   "cell_type": "markdown",
   "metadata": {},
   "source": [
    "#### Pre-processing functions"
   ]
  },
  {
   "cell_type": "code",
   "execution_count": 7,
   "metadata": {
    "collapsed": true
   },
   "outputs": [],
   "source": [
    "### Preprocess the data here. It is required to normalize the data. Other preprocessing steps could include \n",
    "### converting to grayscale, etc.\n",
    "### Feel free to use as many code cells as needed\n",
    "\n",
    "def grayscale_img(n, X):\n",
    "    \n",
    "    ### Step 1: Convert RGB to grayscale\n",
    "    im_gray = np.zeros((n,32,32), dtype=np.uint8) \n",
    "    for i in range(n):\n",
    "        if n > 1:\n",
    "            im_gray[i] = cv2.cvtColor(X[i], cv2.COLOR_RGB2GRAY)\n",
    "        elif n == 1:\n",
    "            im_gray[:,:,:,] = cv2.cvtColor(X[:,:,:,], cv2.COLOR_RGB2GRAY)\n",
    "            \n",
    "    return im_gray\n",
    "    \n",
    "def clahe_img(n, X):\n",
    "        \n",
    "    ### Step 2: Apply CLAHE\n",
    "    cl1 = np.zeros((n,32,32), dtype=np.uint8) \n",
    "    for i in range(n):\n",
    "        clahe = cv2.createCLAHE(clipLimit=2.0, tileGridSize=(8,8))\n",
    "        cl1[i] = clahe.apply(X[i])\n",
    "    \n",
    "    return cl1\n",
    "\n",
    "def normalize_img(X):\n",
    "            \n",
    "    ### Step 3: Normalize the data\n",
    "    normed_image = X.astype(np.float64)\n",
    "    normed_image = np.array(X / 255.0 - 0.5) \n",
    "    return np.reshape(normed_image, (-1, 32,32,1))\n",
    "\n",
    "def preprocess_data(n, X):\n",
    "    \n",
    "    X_gray = grayscale_img(n, X)\n",
    "    X_cl = clahe_img(n, X_gray)\n",
    "    X_norm = normalize_img(X_cl)\n",
    "    \n",
    "    return X_norm"
   ]
  },
  {
   "cell_type": "markdown",
   "metadata": {},
   "source": [
    "#### 1. Convert to grayscale"
   ]
  },
  {
   "cell_type": "code",
   "execution_count": 8,
   "metadata": {
    "collapsed": true
   },
   "outputs": [],
   "source": [
    "X_train_gray = grayscale_img(n_train, X_train)\n",
    "X_valid_gray = grayscale_img(n_validation, X_valid)\n",
    "X_test_gray = grayscale_img(n_test, X_test)"
   ]
  },
  {
   "cell_type": "markdown",
   "metadata": {},
   "source": [
    "#### Plot grayscale comparison"
   ]
  },
  {
   "cell_type": "code",
   "execution_count": 9,
   "metadata": {},
   "outputs": [
    {
     "data": {
      "image/png": "[encoded data removed]",
      "text/plain": [
       "<matplotlib.figure.Figure at 0x2151c52f550>"
      ]
     },
     "metadata": {},
     "output_type": "display_data"
    }
   ],
   "source": [
    "plt.figure(1, figsize=(6,6))\n",
    "plt.subplot(2,2,1)\n",
    "plt.imshow(X_train[250])\n",
    "plt.subplot(2,2,2)\n",
    "plt.imshow(X_train_gray[250], cmap='gray')\n",
    "plt.subplot(2,2,3)\n",
    "plt.hist(X_train[250].flatten(), 256,[0,256], color = 'r')\n",
    "plt.xlabel('Original \\n image')\n",
    "plt.ylabel('Histogram')\n",
    "plt.ylim(0, 300)\n",
    "plt.subplot(2,2,4)\n",
    "plt.hist(X_train_gray[250].flatten(), 256,[0,256], color = 'r')\n",
    "plt.xlabel('After \\n grayscale')\n",
    "plt.ylim(0, 300)\n",
    "plt.show()"
   ]
  },
  {
   "cell_type": "markdown",
   "metadata": {},
   "source": [
    "#### 2. Apply CLAHE on grayscaled images"
   ]
  },
  {
   "cell_type": "code",
   "execution_count": 10,
   "metadata": {
    "collapsed": true
   },
   "outputs": [],
   "source": [
    "X_train_clahe = clahe_img(n_train, X_train_gray)\n",
    "X_valid_clahe = clahe_img(n_validation, X_valid_gray)\n",
    "X_test_clahe = clahe_img(n_test, X_test_gray)"
   ]
  },
  {
   "cell_type": "markdown",
   "metadata": {},
   "source": [
    "#### Plot comparison"
   ]
  },
  {
   "cell_type": "code",
   "execution_count": 11,
   "metadata": {},
   "outputs": [
    {
     "data": {
      "image/png": "[encoded data removed]",
      "text/plain": [
       "<matplotlib.figure.Figure at 0x2151c3d4128>"
      ]
     },
     "metadata": {},
     "output_type": "display_data"
    }
   ],
   "source": [
    "plt.figure(1, figsize=(9,9))\n",
    "plt.subplot(2,3,1)\n",
    "plt.imshow(X_train[250])\n",
    "plt.subplot(2,3,2)\n",
    "plt.imshow(X_train_gray[250], cmap='gray')\n",
    "plt.subplot(2,3,3)\n",
    "plt.imshow(X_train_clahe[250], cmap='gray')\n",
    "plt.subplot(2,3,4)\n",
    "plt.hist(X_train[250].flatten(), 256,[0,256], color = 'r')\n",
    "plt.xlabel('Before \\n grayscale')\n",
    "plt.ylabel('Histogram')\n",
    "plt.ylim(0, 300)\n",
    "plt.subplot(2,3,5)\n",
    "plt.hist(X_train_gray[250].flatten(), 256,[0,256], color = 'r')\n",
    "plt.xlabel('After \\n grayscale')\n",
    "plt.ylim(0, 300)\n",
    "plt.subplot(2,3,6)\n",
    "plt.hist(X_train_clahe[250].flatten(), 256,[0,256], color = 'r')\n",
    "plt.xlabel('After \\n CLAHE')\n",
    "plt.ylim(0, 300)\n",
    "plt.show()"
   ]
  },
  {
   "cell_type": "markdown",
   "metadata": {},
   "source": [
    "#### 3. Normalize images"
   ]
  },
  {
   "cell_type": "code",
   "execution_count": 12,
   "metadata": {
    "collapsed": true
   },
   "outputs": [],
   "source": [
    "X_train_norm = normalize_img(X_train_clahe)\n",
    "X_valid_norm = normalize_img(X_valid_clahe)\n",
    "X_test_norm = normalize_img(X_test_clahe)"
   ]
  },
  {
   "cell_type": "markdown",
   "metadata": {},
   "source": [
    "#### Do preprocessing (grayscale, CLAHE, normalization) in a single step"
   ]
  },
  {
   "cell_type": "code",
   "execution_count": 13,
   "metadata": {
    "collapsed": true
   },
   "outputs": [],
   "source": [
    "X_train_pre = preprocess_data(n_train, X_train)\n",
    "X_valid_pre = preprocess_data(n_validation, X_valid)\n",
    "X_test_pre = preprocess_data(n_test, X_test)"
   ]
  },
  {
   "cell_type": "markdown",
   "metadata": {},
   "source": [
    "Here are the images before and after pre-processing:"
   ]
  },
  {
   "cell_type": "code",
   "execution_count": 14,
   "metadata": {},
   "outputs": [
    {
     "data": {
      "image/png": "[encoded data removed]",
      "text/plain": [
       "<matplotlib.figure.Figure at 0x2152d858cf8>"
      ]
     },
     "metadata": {},
     "output_type": "display_data"
    }
   ],
   "source": [
    "plt.figure(1, figsize=(6,6))\n",
    "plt.subplot(1,2,1)\n",
    "plt.imshow(X_train[250])\n",
    "plt.xlabel('Before \\n preprocessing')\n",
    "plt.subplot(1,2,2)\n",
    "plt.imshow(X_train_pre[250][:,:,0], cmap='gray')\n",
    "plt.xlabel('After \\n preprocessing')\n",
    "plt.show()"
   ]
  },
  {
   "cell_type": "markdown",
   "metadata": {},
   "source": [
    "### Model Architecture"
   ]
  },
  {
   "cell_type": "code",
   "execution_count": 15,
   "metadata": {
    "collapsed": true
   },
   "outputs": [],
   "source": [
    "### Define your architecture here.\n",
    "### Feel free to use as many code cells as needed.\n",
    "import tensorflow as tf\n",
    "\n",
    "EPOCHS = 40\n",
    "BATCH_SIZE = 128\n",
    "\n",
    "from tensorflow.contrib.layers import flatten"
   ]
  },
  {
   "cell_type": "markdown",
   "metadata": {},
   "source": [
    "### Convolution, Flatten and Fully-connected layers"
   ]
  },
  {
   "cell_type": "code",
   "execution_count": 16,
   "metadata": {
    "collapsed": true
   },
   "outputs": [],
   "source": [
    "# Arguments used for tf.truncated_normal, randomly defines variables for the weights and biases for each layer\n",
    "mu = 0\n",
    "sigma = 0.1\n",
    "    \n",
    "def conv_layer(input_image, channels_in, channels_out, name=\"conv\"):   \n",
    "    with tf.name_scope(name):\n",
    "        w = tf.Variable(tf.truncated_normal(shape=(5, 5, channels_in, channels_out), mean = mu, stddev = sigma), name=\"W\")\n",
    "        b = tf.Variable(tf.zeros(channels_out), name=\"B\")\n",
    "        conv = tf.nn.conv2d(input_image, w, strides=[1, 1, 1, 1], padding='VALID')\n",
    "        act = tf.nn.relu(conv + b)\n",
    "        tf.summary.histogram(\"weights\", w)\n",
    "        tf.summary.histogram(\"biases\", b)\n",
    "        tf.summary.histogram(\"activations\", act)\n",
    "        return tf.nn.max_pool(act, ksize=[1, 2, 2, 1], strides=[1, 2, 2, 1], padding='VALID')        \n",
    "\n",
    "def flatten_op(input_image, name=\"flatten_operation\"):\n",
    "    with tf.name_scope(name):\n",
    "        return flatten(input_image)   \n",
    "    \n",
    "def fc_layer(input_image, channels_in, channels_out, name=\"fc\"):\n",
    "    with tf.name_scope(name):\n",
    "        w = tf.Variable(tf.truncated_normal(shape=(channels_in, channels_out), mean = mu, stddev = sigma), name=\"W\")\n",
    "        b = tf.Variable(tf.zeros(channels_out), name=\"B\")\n",
    "        return tf.nn.relu(tf.matmul(input_image, w) + b)\n",
    "        \n",
    "    \n",
    "def output_layer(input_image, channels_in, channels_out, name=\"output\"):\n",
    "    with tf.name_scope(name):\n",
    "        w = tf.Variable(tf.truncated_normal(shape=(channels_in, channels_out), mean = mu, stddev = sigma), name=\"W\")\n",
    "        b = tf.Variable(tf.zeros(channels_out), name=\"B\")\n",
    "        return tf.matmul(input_image, w) + b        "
   ]
  },
  {
   "cell_type": "code",
   "execution_count": 17,
   "metadata": {
    "collapsed": true
   },
   "outputs": [],
   "source": [
    "## Setup placeholders\n",
    "with tf.name_scope(\"inputs\"):\n",
    "    inputs = tf.placeholder(tf.float32, (None, 32, 32, 1), name=\"inputs\")\n",
    "with tf.name_scope(\"labels\"):\n",
    "    labels = tf.placeholder(tf.int32, (None), name=\"labels\")\n",
    "with tf.name_scope(\"keep_prob\"):\n",
    "    keep_prob = tf.placeholder(tf.float32, name=\"keep_prob\")\n",
    "with tf.name_scope(\"one_hot_y\"):\n",
    "    one_hot_y = tf.one_hot(labels, n_classes, name=\"one_hot_y\")"
   ]
  },
  {
   "cell_type": "code",
   "execution_count": 18,
   "metadata": {
    "collapsed": true
   },
   "outputs": [],
   "source": [
    "## Build the model   \n",
    "# Layer 1: Convolutional. Input = 32x32x1. Output = 14x14x6.\n",
    "conv1 = conv_layer(inputs, 1, 6, \"conv1\")\n",
    "\n",
    "# Layer 2: Convolutional. Output = 5x5x16.\n",
    "conv2 = conv_layer(conv1, 6, 16, \"conv2\")\n",
    "\n",
    "# Flatten. Input = 5x5x16. Output = 400.\n",
    "flattened   = flatten_op(conv2)\n",
    "    \n",
    "# Layer 3: Fully Connected. Input = 400. Output = 120.\n",
    "fc1 = fc_layer(flattened, 400, 120, \"fc1\")\n",
    "fc1 = tf.nn.dropout(fc1, keep_prob)\n",
    "\n",
    "# Layer 4: Fully Connected. Input = 120. Output = 84.\n",
    "fc2 = fc_layer(fc1, 120, 84, \"fc2\")\n",
    "fc2 = tf.nn.dropout(fc2, keep_prob)\n",
    "\n",
    "# Output Layer : Fully Connected. Input = 84. Output = 43.\n",
    "logits = output_layer(fc2, 84, n_classes)"
   ]
  },
  {
   "cell_type": "markdown",
   "metadata": {},
   "source": [
    "### Train, Validate and Test the Model"
   ]
  },
  {
   "cell_type": "markdown",
   "metadata": {},
   "source": [
    "A validation set can be used to assess how well the model is performing. A low accuracy on the training and validation\n",
    "sets imply underfitting. A high accuracy on the training set but low accuracy on the validation set implies overfitting."
   ]
  },
  {
   "cell_type": "code",
   "execution_count": 19,
   "metadata": {
    "collapsed": true
   },
   "outputs": [],
   "source": [
    "### Train your model here.\n",
    "### Calculate and report the accuracy on the training and validation set.\n",
    "### Once a final model architecture is selected, \n",
    "### the accuracy on the test set should be calculated and reported as well.\n",
    "### Feel free to use as many code cells as needed.\n",
    "\n",
    "rate = 0.001\n",
    "    \n",
    "with tf.name_scope(\"cross_entropy\"):\n",
    "    cross_entropy = tf.nn.softmax_cross_entropy_with_logits(labels=one_hot_y, logits=logits, name=\"cross_entropy\")\n",
    "with tf.name_scope(\"loss_operation\"):\n",
    "    loss_operation = tf.reduce_mean(cross_entropy, name=\"loss_operation\")    \n",
    "with tf.name_scope(\"optimizer\"):\n",
    "    optimizer = tf.train.AdamOptimizer(learning_rate = rate, name=\"optimizer\")\n",
    "with tf.name_scope(\"training_operation\"):\n",
    "    training_operation = optimizer.minimize(loss_operation)"
   ]
  },
  {
   "cell_type": "code",
   "execution_count": 20,
   "metadata": {
    "collapsed": true
   },
   "outputs": [],
   "source": [
    "with tf.name_scope(\"predictions\"):\n",
    "    predictions = tf.argmax(tf.nn.softmax(logits), 1, name=\"predictions\")\n",
    "with tf.name_scope(\"probability\"):\n",
    "    probability = tf.nn.softmax(logits, name=\"probability\")\n",
    "\n",
    "with tf.name_scope(\"correct_prediction\"):\n",
    "    correct_prediction = tf.equal(tf.argmax(logits, 1), tf.argmax(one_hot_y, 1), name=\"correct_prediction\")\n",
    "with tf.name_scope(\"accuracy_operation\"):\n",
    "    accuracy_operation = tf.reduce_mean(tf.cast(correct_prediction, tf.float32), name=\"accuracy_operation\")\n",
    "    \n",
    "tf.summary.scalar(\"loss\", loss_operation) \n",
    "tf.summary.scalar(\"accuracy\", accuracy_operation)\n",
    "\n",
    "saver = tf.train.Saver()\n",
    "\n",
    "def evaluate(X_data, y_data):\n",
    "    num_examples = len(X_data)\n",
    "    total_accuracy = 0\n",
    "    sess = tf.get_default_session()\n",
    "    for offset in range(0, num_examples, BATCH_SIZE):\n",
    "        batch_x, batch_y = X_data[offset:offset+BATCH_SIZE], y_data[offset:offset+BATCH_SIZE]\n",
    "        accuracy = sess.run(accuracy_operation, feed_dict={inputs: batch_x, labels: batch_y, keep_prob: 1.})\n",
    "        total_accuracy += (accuracy * len(batch_x))\n",
    "    return total_accuracy / num_examples"
   ]
  },
  {
   "cell_type": "code",
   "execution_count": 21,
   "metadata": {
    "collapsed": true
   },
   "outputs": [],
   "source": [
    "# Export the nodes\n",
    "from collections import namedtuple\n",
    "export_nodes = [\"inputs\", \"labels\", \"keep_prob\", \"loss_operation\", \"predictions\", \"accuracy_operation\"]\n",
    "Graph = namedtuple('Graph', export_nodes)\n",
    "local_dict = locals()\n",
    "graph = Graph(*[local_dict[each] for each in export_nodes])"
   ]
  },
  {
   "cell_type": "code",
   "execution_count": 22,
   "metadata": {},
   "outputs": [
    {
     "name": "stdout",
     "output_type": "stream",
     "text": [
      "Training...\n",
      "\n",
      "EPOCH 1 ...\n",
      "Training Accuracy = 0.369\n",
      "Validation Accuracy = 0.635\n",
      "\n",
      "EPOCH 2 ...\n",
      "Training Accuracy = 0.784\n",
      "Validation Accuracy = 0.816\n",
      "\n",
      "EPOCH 3 ...\n",
      "Training Accuracy = 0.793\n",
      "Validation Accuracy = 0.854\n",
      "\n",
      "EPOCH 4 ...\n",
      "Training Accuracy = 0.802\n",
      "Validation Accuracy = 0.881\n",
      "\n",
      "EPOCH 5 ...\n",
      "Training Accuracy = 0.766\n",
      "Validation Accuracy = 0.901\n",
      "\n",
      "EPOCH 6 ...\n",
      "Training Accuracy = 0.856\n",
      "Validation Accuracy = 0.912\n",
      "\n",
      "EPOCH 7 ...\n",
      "Training Accuracy = 0.829\n",
      "Validation Accuracy = 0.923\n",
      "\n",
      "EPOCH 8 ...\n",
      "Training Accuracy = 0.865\n",
      "Validation Accuracy = 0.927\n",
      "\n",
      "EPOCH 9 ...\n",
      "Training Accuracy = 0.856\n",
      "Validation Accuracy = 0.928\n",
      "\n",
      "EPOCH 10 ...\n",
      "Training Accuracy = 0.883\n",
      "Validation Accuracy = 0.934\n",
      "\n",
      "EPOCH 11 ...\n",
      "Training Accuracy = 0.910\n",
      "Validation Accuracy = 0.938\n",
      "\n",
      "EPOCH 12 ...\n",
      "Training Accuracy = 0.910\n",
      "Validation Accuracy = 0.938\n",
      "\n",
      "EPOCH 13 ...\n",
      "Training Accuracy = 0.946\n",
      "Validation Accuracy = 0.940\n",
      "\n",
      "EPOCH 14 ...\n",
      "Training Accuracy = 0.901\n",
      "Validation Accuracy = 0.940\n",
      "\n",
      "EPOCH 15 ...\n",
      "Training Accuracy = 0.919\n",
      "Validation Accuracy = 0.945\n",
      "\n",
      "EPOCH 16 ...\n",
      "Training Accuracy = 0.946\n",
      "Validation Accuracy = 0.946\n",
      "\n",
      "EPOCH 17 ...\n",
      "Training Accuracy = 0.937\n",
      "Validation Accuracy = 0.945\n",
      "\n",
      "EPOCH 18 ...\n",
      "Training Accuracy = 0.928\n",
      "Validation Accuracy = 0.948\n",
      "\n",
      "EPOCH 19 ...\n",
      "Training Accuracy = 0.928\n",
      "Validation Accuracy = 0.951\n",
      "\n",
      "EPOCH 20 ...\n",
      "Training Accuracy = 0.901\n",
      "Validation Accuracy = 0.949\n",
      "\n",
      "EPOCH 21 ...\n",
      "Training Accuracy = 0.937\n",
      "Validation Accuracy = 0.948\n",
      "\n",
      "EPOCH 22 ...\n",
      "Training Accuracy = 0.964\n",
      "Validation Accuracy = 0.948\n",
      "\n",
      "EPOCH 23 ...\n",
      "Training Accuracy = 0.946\n",
      "Validation Accuracy = 0.951\n",
      "\n",
      "EPOCH 24 ...\n",
      "Training Accuracy = 0.973\n",
      "Validation Accuracy = 0.946\n",
      "\n",
      "EPOCH 25 ...\n",
      "Training Accuracy = 0.919\n",
      "Validation Accuracy = 0.955\n",
      "\n",
      "EPOCH 26 ...\n",
      "Training Accuracy = 0.964\n",
      "Validation Accuracy = 0.959\n",
      "\n",
      "EPOCH 27 ...\n",
      "Training Accuracy = 0.973\n",
      "Validation Accuracy = 0.954\n",
      "\n",
      "EPOCH 28 ...\n",
      "Training Accuracy = 0.928\n",
      "Validation Accuracy = 0.958\n",
      "\n",
      "EPOCH 29 ...\n",
      "Training Accuracy = 0.937\n",
      "Validation Accuracy = 0.958\n",
      "\n",
      "EPOCH 30 ...\n",
      "Training Accuracy = 0.937\n",
      "Validation Accuracy = 0.957\n",
      "\n",
      "EPOCH 31 ...\n",
      "Training Accuracy = 0.973\n",
      "Validation Accuracy = 0.956\n",
      "\n",
      "EPOCH 32 ...\n",
      "Training Accuracy = 0.955\n",
      "Validation Accuracy = 0.956\n",
      "\n",
      "EPOCH 33 ...\n",
      "Training Accuracy = 0.991\n",
      "Validation Accuracy = 0.957\n",
      "\n",
      "EPOCH 34 ...\n",
      "Training Accuracy = 0.973\n",
      "Validation Accuracy = 0.953\n",
      "\n",
      "EPOCH 35 ...\n",
      "Training Accuracy = 0.982\n",
      "Validation Accuracy = 0.956\n",
      "\n",
      "EPOCH 36 ...\n",
      "Training Accuracy = 0.937\n",
      "Validation Accuracy = 0.958\n",
      "\n",
      "EPOCH 37 ...\n",
      "Training Accuracy = 0.973\n",
      "Validation Accuracy = 0.954\n",
      "\n",
      "EPOCH 38 ...\n",
      "Training Accuracy = 0.964\n",
      "Validation Accuracy = 0.957\n",
      "\n",
      "EPOCH 39 ...\n",
      "Training Accuracy = 0.964\n",
      "Validation Accuracy = 0.958\n",
      "\n",
      "EPOCH 40 ...\n",
      "Training Accuracy = 0.946\n",
      "Validation Accuracy = 0.955\n",
      "\n",
      "Model saved\n"
     ]
    }
   ],
   "source": [
    "with tf.Session() as sess:\n",
    "    merged_summary = tf.summary.merge_all()\n",
    "    sess.run(tf.global_variables_initializer())\n",
    "    file_writer = tf.summary.FileWriter(\"./logs/train/1\", sess.graph)\n",
    "    \n",
    "    num_examples = len(X_train_pre)\n",
    "    \n",
    "    print(\"Training...\")\n",
    "    print()\n",
    "    for i in range(EPOCHS):\n",
    "        X_train_pre, y_train = shuffle(X_train_pre, y_train)\n",
    "        for offset in range(0, num_examples, BATCH_SIZE):\n",
    "            end = offset + BATCH_SIZE\n",
    "            batch_x, batch_y = X_train_pre[offset:end], y_train[offset:end]\n",
    "            if (offset % 5) == 0:\n",
    "                s = sess.run(merged_summary, feed_dict={inputs: batch_x, labels: batch_y, keep_prob: 0.5})\n",
    "                file_writer.add_summary(s, offset)                \n",
    "            sess.run(training_operation, feed_dict={inputs: batch_x, labels: batch_y, keep_prob: 0.5})\n",
    "            training_accuracy = sess.run(accuracy_operation, feed_dict={inputs: batch_x, labels: batch_y, keep_prob: 0.5})\n",
    "            \n",
    "        validation_accuracy = evaluate(X_valid_pre, y_valid)\n",
    "        print(\"EPOCH {} ...\".format(i+1))\n",
    "        print(\"Training Accuracy = {:.3f}\".format(training_accuracy))\n",
    "        print(\"Validation Accuracy = {:.3f}\".format(validation_accuracy))\n",
    "        print()\n",
    "        \n",
    "    saver.save(sess, './lenet')\n",
    "\n",
    "    print(\"Model saved\")"
   ]
  },
  {
   "cell_type": "code",
   "execution_count": 23,
   "metadata": {},
   "outputs": [
    {
     "name": "stdout",
     "output_type": "stream",
     "text": [
      "INFO:tensorflow:Restoring parameters from .\\lenet\n",
      "Test Accuracy = 0.942\n"
     ]
    }
   ],
   "source": [
    "with tf.Session() as sess:\n",
    "    saver.restore(sess, tf.train.latest_checkpoint('.'))\n",
    "\n",
    "    test_accuracy = evaluate(X_test_pre, y_test)\n",
    "    print(\"Test Accuracy = {:.3f}\".format(test_accuracy))"
   ]
  },
  {
   "cell_type": "markdown",
   "metadata": {},
   "source": [
    "---\n",
    "\n",
    "## Step 3: Test a Model on New Images\n",
    "\n",
    "To give yourself more insight into how your model is working, download at least five pictures of German traffic signs from the web and use your model to predict the traffic sign type.\n",
    "\n",
    "You may find `signnames.csv` useful as it contains mappings from the class id (integer) to the actual sign name."
   ]
  },
  {
   "cell_type": "markdown",
   "metadata": {},
   "source": [
    "### Load and Output the Images"
   ]
  },
  {
   "cell_type": "code",
   "execution_count": 25,
   "metadata": {},
   "outputs": [
    {
     "data": {
      "image/png": "[encoded data removed]",
      "text/plain": [
       "<matplotlib.figure.Figure at 0x2153862fe10>"
      ]
     },
     "metadata": {},
     "output_type": "display_data"
    },
    {
     "name": "stdout",
     "output_type": "stream",
     "text": [
      "Image data shape = (32, 32, 4)\n"
     ]
    }
   ],
   "source": [
    "### Load the images and plot them here.\n",
    "### Feel free to use as many code cells as needed.\n",
    "X_from_web = []\n",
    "for i in range(1,6):\n",
    "    im = mpimg.imread('examples/test{}.jpg'.format(i))\n",
    "    im = cv2.resize(im, (32,32), interpolation = cv2.INTER_CUBIC)\n",
    "    X_from_web.append(im)\n",
    "\n",
    "for i in range(5):\n",
    "    plt.subplot(2, 3, i+1)\n",
    "    plt.imshow(X_from_web[i])\n",
    "    plt.axis('off')\n",
    "plt.suptitle('Five German Traffic signs from the web')\n",
    "plt.show()\n",
    "print(\"Image data shape =\", np.shape(X_from_web[0]))"
   ]
  },
  {
   "cell_type": "code",
   "execution_count": 27,
   "metadata": {},
   "outputs": [],
   "source": [
    "for i in range(5):\n",
    "    im = mpimg.imsave('examples/test{}.jpg'.format(i+1), X_from_web[i])"
   ]
  },
  {
   "cell_type": "markdown",
   "metadata": {},
   "source": [
    "### Predict the Sign Type for Each Image"
   ]
  },
  {
   "cell_type": "code",
   "execution_count": null,
   "metadata": {
    "collapsed": true
   },
   "outputs": [],
   "source": [
    "### Run the predictions here and use the model to output the prediction for each image.\n",
    "### Make sure to pre-process the images with the same pre-processing pipeline used earlier.\n",
    "### Feel free to use as many code cells as needed.\n",
    "\n",
    "#no. of images in X_web\n",
    "n_from_web = len(X_from_web)\n",
    "\n",
    "# Initialize an empty list for storing processed images\n",
    "X_web_processed = np.zeros_like((n_from_web,32,32,1))\n",
    "\n",
    "# Run web images through the pre-processing pipeline\n",
    "X_web_processed = preprocess_data(n_from_web, X_from_web)\n",
    "\n",
    "with tf.Session() as sess:\n",
    "    saver.restore(sess, tf.train.latest_checkpoint('.'))\n",
    "    preds = sess.run(predictions, feed_dict={inputs: X_web_processed, keep_prob: 1.})\n",
    "    print(\"Predictions = {}\".format(preds))"
   ]
  },
  {
   "cell_type": "code",
   "execution_count": null,
   "metadata": {
    "collapsed": true
   },
   "outputs": [],
   "source": [
    "y_labels_web = np.array([36,3,14,13,11])"
   ]
  },
  {
   "cell_type": "markdown",
   "metadata": {},
   "source": [
    "### Analyze Performance"
   ]
  },
  {
   "cell_type": "code",
   "execution_count": null,
   "metadata": {
    "collapsed": true
   },
   "outputs": [],
   "source": [
    "### Calculate the accuracy for these 5 new images. \n",
    "### For example, if the model predicted 1 out of 5 signs correctly, it's 20% accurate on these new images.\n",
    "\n",
    "with tf.Session() as sess:\n",
    "    saver.restore(sess, tf.train.latest_checkpoint('.'))\n",
    "    accuracy = sess.run(accuracy_operation, feed_dict={inputs: X_web_processed, labels: y_labels_web, keep_prob: 1.})\n",
    "    print(\"Accuracy = {:.4f}\".format(accuracy))"
   ]
  },
  {
   "cell_type": "markdown",
   "metadata": {},
   "source": [
    "### Output Top 5 Softmax Probabilities For Each Image Found on the Web"
   ]
  },
  {
   "cell_type": "markdown",
   "metadata": {},
   "source": [
    "For each of the new images, print out the model's softmax probabilities to show the **certainty** of the model's predictions (limit the output to the top 5 probabilities for each image). [`tf.nn.top_k`](https://www.tensorflow.org/versions/r0.12/api_docs/python/nn.html#top_k) could prove helpful here. \n",
    "\n",
    "The example below demonstrates how tf.nn.top_k can be used to find the top k predictions for each image.\n",
    "\n",
    "`tf.nn.top_k` will return the values and indices (class ids) of the top k predictions. So if k=3, for each sign, it'll return the 3 largest probabilities (out of a possible 43) and the correspoding class ids.\n",
    "\n",
    "Take this numpy array as an example. The values in the array represent predictions. The array contains softmax probabilities for five candidate images with six possible classes. `tk.nn.top_k` is used to choose the three classes with the highest probability:\n",
    "\n",
    "```\n",
    "# (5, 6) array\n",
    "a = np.array([[ 0.24879643,  0.07032244,  0.12641572,  0.34763842,  0.07893497,\n",
    "         0.12789202],\n",
    "       [ 0.28086119,  0.27569815,  0.08594638,  0.0178669 ,  0.18063401,\n",
    "         0.15899337],\n",
    "       [ 0.26076848,  0.23664738,  0.08020603,  0.07001922,  0.1134371 ,\n",
    "         0.23892179],\n",
    "       [ 0.11943333,  0.29198961,  0.02605103,  0.26234032,  0.1351348 ,\n",
    "         0.16505091],\n",
    "       [ 0.09561176,  0.34396535,  0.0643941 ,  0.16240774,  0.24206137,\n",
    "         0.09155967]])\n",
    "```\n",
    "\n",
    "Running it through `sess.run(tf.nn.top_k(tf.constant(a), k=3))` produces:\n",
    "\n",
    "```\n",
    "TopKV2(values=array([[ 0.34763842,  0.24879643,  0.12789202],\n",
    "       [ 0.28086119,  0.27569815,  0.18063401],\n",
    "       [ 0.26076848,  0.23892179,  0.23664738],\n",
    "       [ 0.29198961,  0.26234032,  0.16505091],\n",
    "       [ 0.34396535,  0.24206137,  0.16240774]]), indices=array([[3, 0, 5],\n",
    "       [0, 1, 4],\n",
    "       [0, 5, 1],\n",
    "       [1, 3, 5],\n",
    "       [1, 4, 3]], dtype=int32))\n",
    "```\n",
    "\n",
    "Looking just at the first row we get `[ 0.34763842,  0.24879643,  0.12789202]`, you can confirm these are the 3 largest probabilities in `a`. You'll also notice `[3, 0, 5]` are the corresponding indices."
   ]
  },
  {
   "cell_type": "code",
   "execution_count": null,
   "metadata": {
    "collapsed": true
   },
   "outputs": [],
   "source": [
    "### Print out the top five softmax probabilities for the predictions on the German traffic sign images found on the web. \n",
    "### Feel free to use as many code cells as needed.\n",
    "with tf.Session() as sess:\n",
    "    saver.restore(sess, tf.train.latest_checkpoint('.'))\n",
    "    top_k = sess.run(tf.nn.top_k(probability, k=5), feed_dict={inputs: X_web_processed, keep_prob: 1.})\n",
    "    print(\"Top 5 Softmax probabilities = {}\".format(top_k))"
   ]
  },
  {
   "cell_type": "markdown",
   "metadata": {},
   "source": [
    "### Project Writeup\n",
    "\n",
    "Once you have completed the code implementation, document your results in a project writeup using this [template](https://github.com/udacity/CarND-Traffic-Sign-Classifier-Project/blob/master/writeup_template.md) as a guide. The writeup can be in a markdown or pdf file. "
   ]
  },
  {
   "cell_type": "markdown",
   "metadata": {},
   "source": [
    "> **Note**: Once you have completed all of the code implementations and successfully answered each question above, you may finalize your work by exporting the iPython Notebook as an HTML document. You can do this by using the menu above and navigating to  \\n\",\n",
    "    \"**File -> Download as -> HTML (.html)**. Include the finished document along with this notebook as your submission."
   ]
  },
  {
   "cell_type": "markdown",
   "metadata": {},
   "source": [
    "---\n",
    "\n",
    "## Step 4 (Optional): Visualize the Neural Network's State with Test Images\n",
    "\n",
    " This Section is not required to complete but acts as an additional excersise for understaning the output of a neural network's weights. While neural networks can be a great learning device they are often referred to as a black box. We can understand what the weights of a neural network look like better by plotting their feature maps. After successfully training your neural network you can see what it's feature maps look like by plotting the output of the network's weight layers in response to a test stimuli image. From these plotted feature maps, it's possible to see what characteristics of an image the network finds interesting. For a sign, maybe the inner network feature maps react with high activation to the sign's boundary outline or to the contrast in the sign's painted symbol.\n",
    "\n",
    " Provided for you below is the function code that allows you to get the visualization output of any tensorflow weight layer you want. The inputs to the function should be a stimuli image, one used during training or a new one you provided, and then the tensorflow variable name that represents the layer's state during the training process, for instance if you wanted to see what the [LeNet lab's](https://classroom.udacity.com/nanodegrees/nd013/parts/fbf77062-5703-404e-b60c-95b78b2f3f9e/modules/6df7ae49-c61c-4bb2-a23e-6527e69209ec/lessons/601ae704-1035-4287-8b11-e2c2716217ad/concepts/d4aca031-508f-4e0b-b493-e7b706120f81) feature maps looked like for it's second convolutional layer you could enter conv2 as the tf_activation variable.\n",
    "\n",
    "For an example of what feature map outputs look like, check out NVIDIA's results in their paper [End-to-End Deep Learning for Self-Driving Cars](https://devblogs.nvidia.com/parallelforall/deep-learning-self-driving-cars/) in the section Visualization of internal CNN State. NVIDIA was able to show that their network's inner weights had high activations to road boundary lines by comparing feature maps from an image with a clear path to one without. Try experimenting with a similar test to show that your trained network's weights are looking for interesting features, whether it's looking at differences in feature maps from images with or without a sign, or even what feature maps look like in a trained network vs a completely untrained one on the same sign image.\n",
    "\n",
    "<figure>\n",
    " <img src=\"visualize_cnn.png\" width=\"380\" alt=\"Combined Image\" />\n",
    " <figcaption>\n",
    " <p></p> \n",
    " <p style=\"text-align: center;\"> Your output should look something like this (above)</p> \n",
    " </figcaption>\n",
    "</figure>\n",
    " <p></p> \n"
   ]
  },
  {
   "cell_type": "code",
   "execution_count": null,
   "metadata": {
    "collapsed": true
   },
   "outputs": [],
   "source": [
    "### Visualize your network's feature maps here.\n",
    "### Feel free to use as many code cells as needed.\n",
    "\n",
    "# image_input: the test image being fed into the network to produce the feature maps\n",
    "# tf_activation: should be a tf variable name used during your training procedure that represents the calculated state of a specific weight layer\n",
    "# activation_min/max: can be used to view the activation contrast in more detail, by default matplot sets min and max to the actual min and max values of the output\n",
    "# plt_num: used to plot out multiple different weight feature map sets on the same block, just extend the plt number for each new feature map entry\n",
    "\n",
    "def outputFeatureMap(image_input, tf_activation, activation_min=-1, activation_max=2 ,plt_num=1):\n",
    "    # Here make sure to preprocess your image_input in a way your network expects\n",
    "    # with size, normalization, ect if needed\n",
    "    image_input_pre = preprocess_data(1, image_input)\n",
    "    # Note: x should be the same name as your network's tensorflow data placeholder variable\n",
    "    # If you get an error tf_activation is not defined it may be having trouble accessing the variable from inside a function\n",
    "    with tf.Session() as sess:\n",
    "        saver.restore(sess, tf.train.latest_checkpoint('.'))\n",
    "        activation = tf_activation.eval(session=sess,feed_dict={inputs : image_input_pre})\n",
    "        featuremaps = activation.shape[3]\n",
    "        plt.figure(plt_num, figsize=(15,15))\n",
    "        for featuremap in range(featuremaps):\n",
    "            plt.subplot(6,8, featuremap+2) # sets the number of feature maps to show on each row and column\n",
    "            plt.title('FeatureMap ' + str(featuremap)) # displays the feature map number\n",
    "            if activation_min != -1 & activation_max != -1:\n",
    "                plt.imshow(activation[0,:,:, featuremap], interpolation=\"nearest\", vmin =activation_min, vmax=activation_max, cmap=\"gray\")\n",
    "            elif activation_max != -1:\n",
    "                plt.imshow(activation[0,:,:, featuremap], interpolation=\"nearest\", vmax=activation_max, cmap=\"gray\")\n",
    "            elif activation_min !=-1:\n",
    "                plt.imshow(activation[0,:,:, featuremap], interpolation=\"nearest\", vmin=activation_min, cmap=\"gray\")\n",
    "            else:\n",
    "                plt.imshow(activation[0,:,:, featuremap], interpolation=\"nearest\", cmap=\"gray\")\n",
    "        plt.subplot(6,8,1)\n",
    "        plt.title('Original Image')\n",
    "        plt.imshow(image_input)"
   ]
  },
  {
   "cell_type": "code",
   "execution_count": null,
   "metadata": {
    "collapsed": true
   },
   "outputs": [],
   "source": [
    "outputFeatureMap(X_from_web[2], conv1)"
   ]
  }
 ],
 "metadata": {
  "anaconda-cloud": {},
  "kernelspec": {
   "display_name": "Python 3",
   "language": "python",
   "name": "python3"
  },
  "language_info": {
   "codemirror_mode": {
    "name": "ipython",
    "version": 3
   },
   "file_extension": ".py",
   "mimetype": "text/x-python",
   "name": "python",
   "nbconvert_exporter": "python",
   "pygments_lexer": "ipython3",
   "version": "3.5.2"
  },
  "widgets": {
   "state": {},
   "version": "1.1.2"
  }
 },
 "nbformat": 4,
 "nbformat_minor": 1
}
