{
 "cells": [
  {
   "cell_type": "markdown",
   "metadata": {},
   "source": [
    "# Self-Driving Car Engineer Nanodegree\n",
    "\n",
    "## Deep Learning\n",
    "\n",
    "## Project: Build a Traffic Sign Recognition Classifier\n",
    "\n",
    "In this notebook, a template is provided for you to implement your functionality in stages, which is required to successfully complete this project. If additional code is required that cannot be included in the notebook, be sure that the Python code is successfully imported and included in your submission if necessary. \n",
    "\n",
    "> **Note**: Once you have completed all of the code implementations, you need to finalize your work by exporting the iPython Notebook as an HTML document. Before exporting the notebook to html, all of the code cells need to have been run so that reviewers can see the final implementation and output. You can then export the notebook by using the menu above and navigating to  \\n\",\n",
    "    \"**File -> Download as -> HTML (.html)**. Include the finished document along with this notebook as your submission. \n",
    "\n",
    "In addition to implementing code, there is a writeup to complete. The writeup should be completed in a separate file, which can be either a markdown file or a pdf document. There is a [write up template](https://github.com/udacity/CarND-Traffic-Sign-Classifier-Project/blob/master/writeup_template.md) that can be used to guide the writing process. Completing the code template and writeup template will cover all of the [rubric points](https://review.udacity.com/#!/rubrics/481/view) for this project.\n",
    "\n",
    "The [rubric](https://review.udacity.com/#!/rubrics/481/view) contains \"Stand Out Suggestions\" for enhancing the project beyond the minimum requirements. The stand out suggestions are optional. If you decide to pursue the \"stand out suggestions\", you can include the code in this Ipython notebook and also discuss the results in the writeup file.\n",
    "\n",
    "\n",
    ">**Note:** Code and Markdown cells can be executed using the **Shift + Enter** keyboard shortcut. In addition, Markdown cells can be edited by typically double-clicking the cell to enter edit mode."
   ]
  },
  {
   "cell_type": "markdown",
   "metadata": {},
   "source": [
    "---\n",
    "## Step 0: Load The Data"
   ]
  },
  {
   "cell_type": "code",
   "execution_count": 1,
   "metadata": {
    "collapsed": true
   },
   "outputs": [],
   "source": [
    "# Load pickled data\n",
    "import pickle\n",
    "\n",
    "# TODO: Fill this in based on where you saved the training and testing data\n",
    "\n",
    "training_file = 'traffic-signs-data/train.p'\n",
    "validation_file = 'traffic-signs-data/valid.p'\n",
    "testing_file = 'traffic-signs-data/test.p'\n",
    "\n",
    "with open(training_file, mode='rb') as f:\n",
    "    train = pickle.load(f)\n",
    "with open(validation_file, mode='rb') as f:\n",
    "    valid = pickle.load(f)\n",
    "with open(testing_file, mode='rb') as f:\n",
    "    test = pickle.load(f)\n",
    "    \n",
    "X_train, y_train = train['features'], train['labels']\n",
    "X_valid, y_valid = valid['features'], valid['labels']\n",
    "X_test, y_test = test['features'], test['labels']"
   ]
  },
  {
   "cell_type": "markdown",
   "metadata": {},
   "source": [
    "---\n",
    "\n",
    "## Step 1: Dataset Summary & Exploration\n",
    "\n",
    "The pickled data is a dictionary with 4 key/value pairs:\n",
    "\n",
    "- `'features'` is a 4D array containing raw pixel data of the traffic sign images, (num examples, width, height, channels).\n",
    "- `'labels'` is a 1D array containing the label/class id of the traffic sign. The file `signnames.csv` contains id -> name mappings for each id.\n",
    "- `'sizes'` is a list containing tuples, (width, height) representing the original width and height the image.\n",
    "- `'coords'` is a list containing tuples, (x1, y1, x2, y2) representing coordinates of a bounding box around the sign in the image. **THESE COORDINATES ASSUME THE ORIGINAL IMAGE. THE PICKLED DATA CONTAINS RESIZED VERSIONS (32 by 32) OF THESE IMAGES**\n",
    "\n",
    "Complete the basic data summary below. Use python, numpy and/or pandas methods to calculate the data summary rather than hard coding the results. For example, the [pandas shape method](http://pandas.pydata.org/pandas-docs/stable/generated/pandas.DataFrame.shape.html) might be useful for calculating some of the summary results. "
   ]
  },
  {
   "cell_type": "markdown",
   "metadata": {},
   "source": [
    "### Provide a Basic Summary of the Data Set Using Python, Numpy and/or Pandas"
   ]
  },
  {
   "cell_type": "code",
   "execution_count": 2,
   "metadata": {},
   "outputs": [
    {
     "name": "stdout",
     "output_type": "stream",
     "text": [
      "Number of training examples = 34799\n",
      "Number of validation examples = 4410\n",
      "Number of testing examples = 12630\n",
      "Image data shape = (32, 32, 3)\n",
      "Number of classes = 43\n"
     ]
    }
   ],
   "source": [
    "### Replace each question mark with the appropriate value. \n",
    "### Use python, pandas or numpy methods rather than hard coding the results\n",
    "\n",
    "# TODO: Number of training examples\n",
    "n_train = train['features'].shape[0]\n",
    "\n",
    "# TODO: Number of validation examples\n",
    "n_validation = valid['features'].shape[0]\n",
    "\n",
    "# TODO: Number of testing examples.\n",
    "n_test = test['features'].shape[0]\n",
    "\n",
    "# TODO: What's the shape of an traffic sign image?\n",
    "image_shape = train['features'].shape[1:]\n",
    "\n",
    "# TODO: How many unique classes/labels there are in the dataset.\n",
    "x_labels = set([i for i in train['labels']])\n",
    "n_classes = len(x_labels)\n",
    "\n",
    "print(\"Number of training examples =\", n_train)\n",
    "print(\"Number of validation examples =\", n_validation)\n",
    "print(\"Number of testing examples =\", n_test)\n",
    "print(\"Image data shape =\", image_shape)\n",
    "print(\"Number of classes =\", n_classes)"
   ]
  },
  {
   "cell_type": "markdown",
   "metadata": {},
   "source": [
    "### Include an exploratory visualization of the dataset"
   ]
  },
  {
   "cell_type": "markdown",
   "metadata": {},
   "source": [
    "Visualize the German Traffic Signs Dataset using the pickled file(s). This is open ended, suggestions include: plotting traffic sign images, plotting the count of each sign, etc. \n",
    "\n",
    "The [Matplotlib](http://matplotlib.org/) [examples](http://matplotlib.org/examples/index.html) and [gallery](http://matplotlib.org/gallery.html) pages are a great resource for doing visualizations in Python.\n",
    "\n",
    "**NOTE:** It's recommended you start with something simple first. If you wish to do more, come back to it after you've completed the rest of the sections. It can be interesting to look at the distribution of classes in the training, validation and test set. Is the distribution the same? Are there more examples of some classes than others?"
   ]
  },
  {
   "cell_type": "code",
   "execution_count": 3,
   "metadata": {
    "collapsed": true
   },
   "outputs": [],
   "source": [
    "### Data exploration visualization code goes here.\n",
    "### Feel free to use as many code cells as needed.\n",
    "### Import the necessary libraries\n",
    "import numpy as np\n",
    "import random\n",
    "from collections import Counter\n",
    "import matplotlib.pyplot as plt\n",
    "import matplotlib.gridspec as gridspec\n",
    "import matplotlib.image as mpimg\n",
    "import os\n",
    "import cv2\n",
    "# Visualizations will be shown in the notebook.\n",
    "%matplotlib inline"
   ]
  },
  {
   "cell_type": "markdown",
   "metadata": {},
   "source": [
    "#### 1. Class Distribution in the dataset"
   ]
  },
  {
   "cell_type": "code",
   "execution_count": 4,
   "metadata": {},
   "outputs": [
    {
     "data": {
      "image/png": "[encoded data removed]",
      "text/plain": [
       "<matplotlib.figure.Figure at 0x2106690f908>"
      ]
     },
     "metadata": {},
     "output_type": "display_data"
    }
   ],
   "source": [
    "## Create counter for each label to be used later\n",
    "train_counts = Counter(y_train)\n",
    "valid_counts = Counter(y_valid)\n",
    "test_counts = Counter(y_test)\n",
    "\n",
    "## Create histograms \n",
    "## for comparing class distribution\n",
    "gs = gridspec.GridSpec(3, 1)\n",
    "\n",
    "ax1 = plt.subplot(gs[0])\n",
    "ax1.hist(y_train, bins=100)\n",
    "ax1.xaxis.set_visible(False)\n",
    "plt.ylabel('Training')\n",
    "plt.title('Class Distribution in the Dataset')\n",
    "\n",
    "ax2 = plt.subplot(gs[1])\n",
    "ax2.hist(y_valid, bins=100)\n",
    "ax2.xaxis.set_visible(False)\n",
    "plt.ylabel('Validation')\n",
    "\n",
    "ax3 = plt.subplot(gs[2])\n",
    "ax3.hist(y_test, bins=100)\n",
    "plt.ylabel('Test')\n",
    "plt.xlabel('Classes')\n",
    "plt.show()"
   ]
  },
  {
   "cell_type": "markdown",
   "metadata": {},
   "source": [
    "The above plot shows the class distribution in the training, validation and test datasets.The distribution is similar across datasets, although we clearly see a skew in terms of the number of examples from each of the 43 classes in each dataset. Let's look at some of the images below."
   ]
  },
  {
   "cell_type": "markdown",
   "metadata": {},
   "source": [
    "#### 2. Sample images from the training dataset"
   ]
  },
  {
   "cell_type": "code",
   "execution_count": 5,
   "metadata": {},
   "outputs": [
    {
     "data": {
      "image/png": "[encoded data removed]",
      "text/plain": [
       "<matplotlib.figure.Figure at 0x210658c9668>"
      ]
     },
     "metadata": {},
     "output_type": "display_data"
    }
   ],
   "source": [
    "### Plot some sample images from the training dataset\n",
    "plt.figure(1, figsize=(6,6))\n",
    "plt.suptitle('Some sample images from the Training dataset')\n",
    "for i in range(9):\n",
    "    plt.subplot(3,3,i+1)\n",
    "    plt.imshow(random.choice(X_train[y_train == i*4]))\n",
    "    plt.title('Class: {}'.format(i*4))\n",
    "    plt.axis('off')"
   ]
  },
  {
   "cell_type": "markdown",
   "metadata": {},
   "source": [
    "#### 3. Plot some special cases"
   ]
  },
  {
   "cell_type": "markdown",
   "metadata": {},
   "source": [
    "Let's look at some images from the training dataset that have the minimum counts in the whole set i.e. a particular class that appears to have the minimum representative examples in the dataset.\n",
    "\n",
    "We don't yet know how our model performs on these classes; maybe it performs well already and maybe it doesn't. We'll discuss later."
   ]
  },
  {
   "cell_type": "code",
   "execution_count": 6,
   "metadata": {},
   "outputs": [
    {
     "data": {
      "image/png": "[encoded data removed]",
      "text/plain": [
       "<matplotlib.figure.Figure at 0x2106929b2e8>"
      ]
     },
     "metadata": {},
     "output_type": "display_data"
    }
   ],
   "source": [
    "## Print the under-represented classes from each set\n",
    "from sklearn.utils import shuffle\n",
    "\n",
    "## Collect the min number of counts for classes in training and validation sets\n",
    "min_train_cts = min(train_counts.values())\n",
    "min_valid_cts = min(valid_counts.values())\n",
    "\n",
    "## Find the indices of these min_count classes\n",
    "min_train_ind = [key for key, value in train_counts.items() if value == min_train_cts]\n",
    "min_valid_ind = [key for key, value in valid_counts.items() if value == min_valid_cts]\n",
    "\n",
    "## Plot some images\n",
    "plt.figure(1, figsize=(6,6))\n",
    "plt.suptitle('Some images having classes with low counts in the Training dataset')\n",
    "for i in range(9):\n",
    "    cl = shuffle(min_train_ind)\n",
    "    plt.subplot(3,3,i+1)\n",
    "    plt.imshow(random.choice(X_train[y_train == cl[0]]))\n",
    "    plt.title('Class: {}'.format(cl[0]))\n",
    "    plt.axis('off')"
   ]
  },
  {
   "cell_type": "markdown",
   "metadata": {},
   "source": [
    "----\n",
    "\n",
    "## Step 2: Design and Test a Model Architecture\n",
    "\n",
    "Design and implement a deep learning model that learns to recognize traffic signs. Train and test your model on the [German Traffic Sign Dataset](http://benchmark.ini.rub.de/?section=gtsrb&subsection=dataset).\n",
    "\n",
    "The LeNet-5 implementation shown in the [classroom](https://classroom.udacity.com/nanodegrees/nd013/parts/fbf77062-5703-404e-b60c-95b78b2f3f9e/modules/6df7ae49-c61c-4bb2-a23e-6527e69209ec/lessons/601ae704-1035-4287-8b11-e2c2716217ad/concepts/d4aca031-508f-4e0b-b493-e7b706120f81) at the end of the CNN lesson is a solid starting point. You'll have to change the number of classes and possibly the preprocessing, but aside from that it's plug and play! \n",
    "\n",
    "With the LeNet-5 solution from the lecture, you should expect a validation set accuracy of about 0.89. To meet specifications, the validation set accuracy will need to be at least 0.93. It is possible to get an even higher accuracy, but 0.93 is the minimum for a successful project submission. \n",
    "\n",
    "There are various aspects to consider when thinking about this problem:\n",
    "\n",
    "- Neural network architecture (is the network over or underfitting?)\n",
    "- Play around preprocessing techniques (normalization, rgb to grayscale, etc)\n",
    "- Number of examples per label (some have more than others).\n",
    "- Generate fake data.\n",
    "\n",
    "Here is an example of a [published baseline model on this problem](http://yann.lecun.com/exdb/publis/pdf/sermanet-ijcnn-11.pdf). It's not required to be familiar with the approach used in the paper but, it's good practice to try to read papers like these."
   ]
  },
  {
   "cell_type": "markdown",
   "metadata": {},
   "source": [
    "### Pre-process the Data Set (normalization, grayscale, etc.)"
   ]
  },
  {
   "cell_type": "markdown",
   "metadata": {},
   "source": [
    "Minimally, the image data should be normalized so that the data has mean zero and equal variance. For image data, `(pixel - 128)/ 128` is a quick way to approximately normalize the data and can be used in this project. \n",
    "\n",
    "Other pre-processing steps are optional. You can try different techniques to see if it improves performance. \n",
    "\n",
    "Use the code cell (or multiple code cells, if necessary) to implement the first step of your project."
   ]
  },
  {
   "cell_type": "markdown",
   "metadata": {},
   "source": [
    "#### Pre-processing functions"
   ]
  },
  {
   "cell_type": "code",
   "execution_count": 7,
   "metadata": {
    "collapsed": true
   },
   "outputs": [],
   "source": [
    "### Preprocess the data here. It is required to normalize the data. Other preprocessing steps could include \n",
    "### converting to grayscale, etc.\n",
    "### Feel free to use as many code cells as needed\n",
    "\n",
    "def grayscale_img(n, X):\n",
    "    \n",
    "    ### Step 1: Convert RGB to grayscale\n",
    "    im_gray = np.zeros((n,32,32), dtype=np.uint8) \n",
    "    for i in range(n):\n",
    "        if n > 1:\n",
    "            im_gray[i] = cv2.cvtColor(X[i], cv2.COLOR_RGB2GRAY)\n",
    "        elif n == 1:\n",
    "            im_gray[:,:,:,] = cv2.cvtColor(X[:,:,:,], cv2.COLOR_RGB2GRAY)\n",
    "            \n",
    "    return im_gray\n",
    "    \n",
    "def clahe_img(n, X):\n",
    "        \n",
    "    ### Step 2: Apply CLAHE\n",
    "    cl1 = np.zeros((n,32,32), dtype=np.uint8) \n",
    "    for i in range(n):\n",
    "        clahe = cv2.createCLAHE(clipLimit=2.0, tileGridSize=(8,8))\n",
    "        cl1[i] = clahe.apply(X[i])\n",
    "    \n",
    "    return cl1\n",
    "\n",
    "def normalize_img(X):\n",
    "            \n",
    "    ### Step 3: Normalize the data\n",
    "    normed_image = X.astype(np.float64)\n",
    "    normed_image = np.array(X / 255.0 - 0.5) \n",
    "    return np.reshape(normed_image, (-1, 32,32,1))\n",
    "\n",
    "def preprocess_data(n, X):\n",
    "    \n",
    "    X_gray = grayscale_img(n, X)\n",
    "    X_cl = clahe_img(n, X_gray)\n",
    "    X_norm = normalize_img(X_cl)\n",
    "    \n",
    "    return X_norm"
   ]
  },
  {
   "cell_type": "markdown",
   "metadata": {},
   "source": [
    "#### 1. Convert to grayscale"
   ]
  },
  {
   "cell_type": "code",
   "execution_count": 8,
   "metadata": {
    "collapsed": true
   },
   "outputs": [],
   "source": [
    "X_train_gray = grayscale_img(n_train, X_train)\n",
    "X_valid_gray = grayscale_img(n_validation, X_valid)\n",
    "X_test_gray = grayscale_img(n_test, X_test)"
   ]
  },
  {
   "cell_type": "markdown",
   "metadata": {},
   "source": [
    "#### Plot grayscale comparison"
   ]
  },
  {
   "cell_type": "code",
   "execution_count": 9,
   "metadata": {},
   "outputs": [
    {
     "data": {
      "image/png": "[encoded data removed]",
      "text/plain": [
       "<matplotlib.figure.Figure at 0x21068f896d8>"
      ]
     },
     "metadata": {},
     "output_type": "display_data"
    }
   ],
   "source": [
    "plt.figure(1, figsize=(6,6))\n",
    "plt.subplot(2,2,1)\n",
    "plt.imshow(X_train[250])\n",
    "plt.subplot(2,2,2)\n",
    "plt.imshow(X_train_gray[250], cmap='gray')\n",
    "plt.subplot(2,2,3)\n",
    "plt.hist(X_train[250].flatten(), 256,[0,256], color = 'r')\n",
    "plt.xlabel('Original \\n image')\n",
    "plt.ylabel('Histogram')\n",
    "plt.ylim(0, 300)\n",
    "plt.subplot(2,2,4)\n",
    "plt.hist(X_train_gray[250].flatten(), 256,[0,256], color = 'r')\n",
    "plt.xlabel('After \\n grayscale')\n",
    "plt.ylim(0, 300)\n",
    "plt.show()"
   ]
  },
  {
   "cell_type": "markdown",
   "metadata": {},
   "source": [
    "#### 2. Apply CLAHE on grayscaled images"
   ]
  },
  {
   "cell_type": "code",
   "execution_count": 10,
   "metadata": {
    "collapsed": true
   },
   "outputs": [],
   "source": [
    "X_train_clahe = clahe_img(n_train, X_train_gray)\n",
    "X_valid_clahe = clahe_img(n_validation, X_valid_gray)\n",
    "X_test_clahe = clahe_img(n_test, X_test_gray)"
   ]
  },
  {
   "cell_type": "markdown",
   "metadata": {},
   "source": [
    "#### Plot comparison"
   ]
  },
  {
   "cell_type": "code",
   "execution_count": 11,
   "metadata": {},
   "outputs": [
    {
     "data": {
      "image/png": "[encoded data removed]",
      "text/plain": [
       "<matplotlib.figure.Figure at 0x210690d4048>"
      ]
     },
     "metadata": {},
     "output_type": "display_data"
    }
   ],
   "source": [
    "plt.figure(1, figsize=(9,9))\n",
    "plt.subplot(2,3,1)\n",
    "plt.imshow(X_train[250])\n",
    "plt.subplot(2,3,2)\n",
    "plt.imshow(X_train_gray[250], cmap='gray')\n",
    "plt.subplot(2,3,3)\n",
    "plt.imshow(X_train_clahe[250], cmap='gray')\n",
    "plt.subplot(2,3,4)\n",
    "plt.hist(X_train[250].flatten(), 256,[0,256], color = 'r')\n",
    "plt.xlabel('Before \\n grayscale')\n",
    "plt.ylabel('Histogram')\n",
    "plt.ylim(0, 300)\n",
    "plt.subplot(2,3,5)\n",
    "plt.hist(X_train_gray[250].flatten(), 256,[0,256], color = 'r')\n",
    "plt.xlabel('After \\n grayscale')\n",
    "plt.ylim(0, 300)\n",
    "plt.subplot(2,3,6)\n",
    "plt.hist(X_train_clahe[250].flatten(), 256,[0,256], color = 'r')\n",
    "plt.xlabel('After \\n CLAHE')\n",
    "plt.ylim(0, 300)\n",
    "plt.show()"
   ]
  },
  {
   "cell_type": "markdown",
   "metadata": {},
   "source": [
    "#### 3. Normalize images"
   ]
  },
  {
   "cell_type": "code",
   "execution_count": 12,
   "metadata": {
    "collapsed": true
   },
   "outputs": [],
   "source": [
    "X_train_norm = normalize_img(X_train_clahe)\n",
    "X_valid_norm = normalize_img(X_valid_clahe)\n",
    "X_test_norm = normalize_img(X_test_clahe)"
   ]
  },
  {
   "cell_type": "markdown",
   "metadata": {},
   "source": [
    "#### Do preprocessing (grayscale, CLAHE, normalization) in a single step"
   ]
  },
  {
   "cell_type": "code",
   "execution_count": 13,
   "metadata": {
    "collapsed": true
   },
   "outputs": [],
   "source": [
    "X_train_pre = preprocess_data(n_train, X_train)\n",
    "X_valid_pre = preprocess_data(n_validation, X_valid)\n",
    "X_test_pre = preprocess_data(n_test, X_test)"
   ]
  },
  {
   "cell_type": "markdown",
   "metadata": {},
   "source": [
    "Here are the images before and after pre-processing:"
   ]
  },
  {
   "cell_type": "code",
   "execution_count": 14,
   "metadata": {},
   "outputs": [
    {
     "data": {
      "image/png": "[encoded data removed]",
      "text/plain": [
       "<matplotlib.figure.Figure at 0x21067a54320>"
      ]
     },
     "metadata": {},
     "output_type": "display_data"
    }
   ],
   "source": [
    "plt.figure(1, figsize=(6,6))\n",
    "plt.subplot(1,2,1)\n",
    "plt.imshow(X_train[250])\n",
    "plt.xlabel('Before \\n preprocessing')\n",
    "plt.subplot(1,2,2)\n",
    "plt.imshow(X_train_pre[250][:,:,0], cmap='gray')\n",
    "plt.xlabel('After \\n preprocessing')\n",
    "plt.show()"
   ]
  },
  {
   "cell_type": "markdown",
   "metadata": {},
   "source": [
    "### Model Architecture"
   ]
  },
  {
   "cell_type": "code",
   "execution_count": 15,
   "metadata": {
    "collapsed": true
   },
   "outputs": [],
   "source": [
    "### Define your architecture here.\n",
    "### Feel free to use as many code cells as needed.\n",
    "import tensorflow as tf\n",
    "\n",
    "EPOCHS = 25\n",
    "BATCH_SIZE = 128\n",
    "\n",
    "from tensorflow.contrib.layers import flatten"
   ]
  },
  {
   "cell_type": "markdown",
   "metadata": {},
   "source": [
    "### Convolution, Flatten and Fully-connected layers"
   ]
  },
  {
   "cell_type": "code",
   "execution_count": 16,
   "metadata": {
    "collapsed": true
   },
   "outputs": [],
   "source": [
    "# Arguments used for tf.truncated_normal, randomly defines variables for the weights and biases for each layer\n",
    "mu = 0\n",
    "sigma = 0.1\n",
    "    \n",
    "def conv_layer(input_image, channels_in, channels_out, name=\"conv\"):   \n",
    "    with tf.name_scope(name):\n",
    "        w = tf.Variable(tf.truncated_normal(shape=(5, 5, channels_in, channels_out), mean = mu, stddev = sigma), name=\"W\")\n",
    "        b = tf.Variable(tf.zeros(channels_out), name=\"B\")\n",
    "        conv = tf.nn.conv2d(input_image, w, strides=[1, 1, 1, 1], padding='VALID')\n",
    "        act = tf.nn.relu(conv + b)\n",
    "        tf.summary.histogram(\"weights\", w)\n",
    "        tf.summary.histogram(\"biases\", b)\n",
    "        tf.summary.histogram(\"activations\", act)\n",
    "        return tf.nn.max_pool(act, ksize=[1, 2, 2, 1], strides=[1, 2, 2, 1], padding='VALID')        \n",
    "\n",
    "def flatten_op(input_image, name=\"flatten_operation\"):\n",
    "    with tf.name_scope(name):\n",
    "        return flatten(input_image)   \n",
    "    \n",
    "def fc_layer(input_image, channels_in, channels_out, name=\"fc\"):\n",
    "    with tf.name_scope(name):\n",
    "        w = tf.Variable(tf.truncated_normal(shape=(channels_in, channels_out), mean = mu, stddev = sigma), name=\"W\")\n",
    "        b = tf.Variable(tf.zeros(channels_out), name=\"B\")\n",
    "        return tf.nn.relu(tf.matmul(input_image, w) + b)\n",
    "        \n",
    "    \n",
    "def output_layer(input_image, channels_in, channels_out, name=\"output\"):\n",
    "    with tf.name_scope(name):\n",
    "        w = tf.Variable(tf.truncated_normal(shape=(channels_in, channels_out), mean = mu, stddev = sigma), name=\"W\")\n",
    "        b = tf.Variable(tf.zeros(channels_out), name=\"B\")\n",
    "        return tf.matmul(input_image, w) + b        "
   ]
  },
  {
   "cell_type": "code",
   "execution_count": 17,
   "metadata": {
    "collapsed": true
   },
   "outputs": [],
   "source": [
    "## Setup placeholders\n",
    "with tf.name_scope(\"inputs\"):\n",
    "    inputs = tf.placeholder(tf.float32, (None, 32, 32, 1), name=\"inputs\")\n",
    "with tf.name_scope(\"labels\"):\n",
    "    labels = tf.placeholder(tf.int32, (None), name=\"labels\")\n",
    "with tf.name_scope(\"keep_prob\"):\n",
    "    keep_prob = tf.placeholder(tf.float32, name=\"keep_prob\")\n",
    "with tf.name_scope(\"one_hot_y\"):\n",
    "    one_hot_y = tf.one_hot(labels, n_classes, name=\"one_hot_y\")"
   ]
  },
  {
   "cell_type": "code",
   "execution_count": 18,
   "metadata": {
    "collapsed": true
   },
   "outputs": [],
   "source": [
    "## Build the model   \n",
    "# Layer 1: Convolutional. Input = 32x32x1. Output = 14x14x6.\n",
    "conv1 = conv_layer(inputs, 1, 6, \"conv1\")\n",
    "\n",
    "# Layer 2: Convolutional. Output = 5x5x16.\n",
    "conv2 = conv_layer(conv1, 6, 16, \"conv2\")\n",
    "\n",
    "# Flatten. Input = 5x5x16. Output = 400.\n",
    "flattened   = flatten_op(conv2)\n",
    "    \n",
    "# Layer 3: Fully Connected. Input = 400. Output = 120.\n",
    "fc1 = fc_layer(flattened, 400, 120, \"fc1\")\n",
    "fc1 = tf.nn.dropout(fc1, keep_prob)\n",
    "\n",
    "# Layer 4: Fully Connected. Input = 120. Output = 84.\n",
    "fc2 = fc_layer(fc1, 120, 84, \"fc2\")\n",
    "fc2 = tf.nn.dropout(fc2, keep_prob)\n",
    "\n",
    "# Output Layer : Fully Connected. Input = 84. Output = 43.\n",
    "logits = output_layer(fc2, 84, n_classes)"
   ]
  },
  {
   "cell_type": "markdown",
   "metadata": {},
   "source": [
    "### Train, Validate and Test the Model"
   ]
  },
  {
   "cell_type": "markdown",
   "metadata": {},
   "source": [
    "A validation set can be used to assess how well the model is performing. A low accuracy on the training and validation\n",
    "sets imply underfitting. A high accuracy on the training set but low accuracy on the validation set implies overfitting."
   ]
  },
  {
   "cell_type": "code",
   "execution_count": 30,
   "metadata": {},
   "outputs": [
    {
     "data": {
      "text/plain": [
       "['inputs/inputs',\n",
       " 'labels/labels',\n",
       " 'keep_prob/keep_prob',\n",
       " 'one_hot_y/one_hot_y/on_value',\n",
       " 'one_hot_y/one_hot_y/off_value',\n",
       " 'one_hot_y/one_hot_y/depth',\n",
       " 'one_hot_y/one_hot_y',\n",
       " 'conv1/truncated_normal/shape',\n",
       " 'conv1/truncated_normal/mean',\n",
       " 'conv1/truncated_normal/stddev',\n",
       " 'conv1/truncated_normal/TruncatedNormal',\n",
       " 'conv1/truncated_normal/mul',\n",
       " 'conv1/truncated_normal',\n",
       " 'conv1/W',\n",
       " 'conv1/W/Assign',\n",
       " 'conv1/W/read',\n",
       " 'conv1/zeros',\n",
       " 'conv1/B',\n",
       " 'conv1/B/Assign',\n",
       " 'conv1/B/read',\n",
       " 'conv1/Conv2D',\n",
       " 'conv1/add',\n",
       " 'conv1/Relu',\n",
       " 'conv1/weights/tag',\n",
       " 'conv1/weights',\n",
       " 'conv1/biases/tag',\n",
       " 'conv1/biases',\n",
       " 'conv1/activations/tag',\n",
       " 'conv1/activations',\n",
       " 'conv1/MaxPool',\n",
       " 'conv2/truncated_normal/shape',\n",
       " 'conv2/truncated_normal/mean',\n",
       " 'conv2/truncated_normal/stddev',\n",
       " 'conv2/truncated_normal/TruncatedNormal',\n",
       " 'conv2/truncated_normal/mul',\n",
       " 'conv2/truncated_normal',\n",
       " 'conv2/W',\n",
       " 'conv2/W/Assign',\n",
       " 'conv2/W/read',\n",
       " 'conv2/zeros',\n",
       " 'conv2/B',\n",
       " 'conv2/B/Assign',\n",
       " 'conv2/B/read',\n",
       " 'conv2/Conv2D',\n",
       " 'conv2/add',\n",
       " 'conv2/Relu',\n",
       " 'conv2/weights/tag',\n",
       " 'conv2/weights',\n",
       " 'conv2/biases/tag',\n",
       " 'conv2/biases',\n",
       " 'conv2/activations/tag',\n",
       " 'conv2/activations',\n",
       " 'conv2/MaxPool',\n",
       " 'flatten_operation/Flatten/Shape',\n",
       " 'flatten_operation/Flatten/Slice/begin',\n",
       " 'flatten_operation/Flatten/Slice/size',\n",
       " 'flatten_operation/Flatten/Slice',\n",
       " 'flatten_operation/Flatten/Slice_1/begin',\n",
       " 'flatten_operation/Flatten/Slice_1/size',\n",
       " 'flatten_operation/Flatten/Slice_1',\n",
       " 'flatten_operation/Flatten/Const',\n",
       " 'flatten_operation/Flatten/Prod',\n",
       " 'flatten_operation/Flatten/ExpandDims/dim',\n",
       " 'flatten_operation/Flatten/ExpandDims',\n",
       " 'flatten_operation/Flatten/concat/axis',\n",
       " 'flatten_operation/Flatten/concat',\n",
       " 'flatten_operation/Flatten/Reshape',\n",
       " 'fc1/truncated_normal/shape',\n",
       " 'fc1/truncated_normal/mean',\n",
       " 'fc1/truncated_normal/stddev',\n",
       " 'fc1/truncated_normal/TruncatedNormal',\n",
       " 'fc1/truncated_normal/mul',\n",
       " 'fc1/truncated_normal',\n",
       " 'fc1/W',\n",
       " 'fc1/W/Assign',\n",
       " 'fc1/W/read',\n",
       " 'fc1/zeros',\n",
       " 'fc1/B',\n",
       " 'fc1/B/Assign',\n",
       " 'fc1/B/read',\n",
       " 'fc1/MatMul',\n",
       " 'fc1/add',\n",
       " 'fc1/Relu',\n",
       " 'dropout/Shape',\n",
       " 'dropout/random_uniform/min',\n",
       " 'dropout/random_uniform/max',\n",
       " 'dropout/random_uniform/RandomUniform',\n",
       " 'dropout/random_uniform/sub',\n",
       " 'dropout/random_uniform/mul',\n",
       " 'dropout/random_uniform',\n",
       " 'dropout/add',\n",
       " 'dropout/Floor',\n",
       " 'dropout/div',\n",
       " 'dropout/mul',\n",
       " 'fc2/truncated_normal/shape',\n",
       " 'fc2/truncated_normal/mean',\n",
       " 'fc2/truncated_normal/stddev',\n",
       " 'fc2/truncated_normal/TruncatedNormal',\n",
       " 'fc2/truncated_normal/mul',\n",
       " 'fc2/truncated_normal',\n",
       " 'fc2/W',\n",
       " 'fc2/W/Assign',\n",
       " 'fc2/W/read',\n",
       " 'fc2/zeros',\n",
       " 'fc2/B',\n",
       " 'fc2/B/Assign',\n",
       " 'fc2/B/read',\n",
       " 'fc2/MatMul',\n",
       " 'fc2/add',\n",
       " 'fc2/Relu',\n",
       " 'dropout_1/Shape',\n",
       " 'dropout_1/random_uniform/min',\n",
       " 'dropout_1/random_uniform/max',\n",
       " 'dropout_1/random_uniform/RandomUniform',\n",
       " 'dropout_1/random_uniform/sub',\n",
       " 'dropout_1/random_uniform/mul',\n",
       " 'dropout_1/random_uniform',\n",
       " 'dropout_1/add',\n",
       " 'dropout_1/Floor',\n",
       " 'dropout_1/div',\n",
       " 'dropout_1/mul',\n",
       " 'output/truncated_normal/shape',\n",
       " 'output/truncated_normal/mean',\n",
       " 'output/truncated_normal/stddev',\n",
       " 'output/truncated_normal/TruncatedNormal',\n",
       " 'output/truncated_normal/mul',\n",
       " 'output/truncated_normal',\n",
       " 'output/W',\n",
       " 'output/W/Assign',\n",
       " 'output/W/read',\n",
       " 'output/zeros',\n",
       " 'output/B',\n",
       " 'output/B/Assign',\n",
       " 'output/B/read',\n",
       " 'output/MatMul',\n",
       " 'output/add',\n",
       " 'cross_entropy/Rank',\n",
       " 'cross_entropy/Shape',\n",
       " 'cross_entropy/Rank_1',\n",
       " 'cross_entropy/Shape_1',\n",
       " 'cross_entropy/Sub/y',\n",
       " 'cross_entropy/Sub',\n",
       " 'cross_entropy/Slice/begin',\n",
       " 'cross_entropy/Slice/size',\n",
       " 'cross_entropy/Slice',\n",
       " 'cross_entropy/concat/values_0',\n",
       " 'cross_entropy/concat/axis',\n",
       " 'cross_entropy/concat',\n",
       " 'cross_entropy/Reshape',\n",
       " 'cross_entropy/Rank_2',\n",
       " 'cross_entropy/Shape_2',\n",
       " 'cross_entropy/Sub_1/y',\n",
       " 'cross_entropy/Sub_1',\n",
       " 'cross_entropy/Slice_1/begin',\n",
       " 'cross_entropy/Slice_1/size',\n",
       " 'cross_entropy/Slice_1',\n",
       " 'cross_entropy/concat_1/values_0',\n",
       " 'cross_entropy/concat_1/axis',\n",
       " 'cross_entropy/concat_1',\n",
       " 'cross_entropy/Reshape_1',\n",
       " 'cross_entropy/cross_entropy',\n",
       " 'cross_entropy/Sub_2/y',\n",
       " 'cross_entropy/Sub_2',\n",
       " 'cross_entropy/Slice_2/begin',\n",
       " 'cross_entropy/Slice_2/size',\n",
       " 'cross_entropy/Slice_2',\n",
       " 'cross_entropy/Reshape_2',\n",
       " 'loss_operation/Const',\n",
       " 'loss_operation/loss_operation',\n",
       " 'training_operation/gradients/Shape',\n",
       " 'training_operation/gradients/Const',\n",
       " 'training_operation/gradients/Fill',\n",
       " 'training_operation/gradients/loss_operation/loss_operation_grad/Reshape/shape',\n",
       " 'training_operation/gradients/loss_operation/loss_operation_grad/Reshape',\n",
       " 'training_operation/gradients/loss_operation/loss_operation_grad/Shape',\n",
       " 'training_operation/gradients/loss_operation/loss_operation_grad/Tile',\n",
       " 'training_operation/gradients/loss_operation/loss_operation_grad/Shape_1',\n",
       " 'training_operation/gradients/loss_operation/loss_operation_grad/Shape_2',\n",
       " 'training_operation/gradients/loss_operation/loss_operation_grad/Const',\n",
       " 'training_operation/gradients/loss_operation/loss_operation_grad/Prod',\n",
       " 'training_operation/gradients/loss_operation/loss_operation_grad/Const_1',\n",
       " 'training_operation/gradients/loss_operation/loss_operation_grad/Prod_1',\n",
       " 'training_operation/gradients/loss_operation/loss_operation_grad/Maximum/y',\n",
       " 'training_operation/gradients/loss_operation/loss_operation_grad/Maximum',\n",
       " 'training_operation/gradients/loss_operation/loss_operation_grad/floordiv',\n",
       " 'training_operation/gradients/loss_operation/loss_operation_grad/Cast',\n",
       " 'training_operation/gradients/loss_operation/loss_operation_grad/truediv',\n",
       " 'training_operation/gradients/cross_entropy/Reshape_2_grad/Shape',\n",
       " 'training_operation/gradients/cross_entropy/Reshape_2_grad/Reshape',\n",
       " 'training_operation/gradients/zeros_like',\n",
       " 'training_operation/gradients/cross_entropy/cross_entropy_grad/ExpandDims/dim',\n",
       " 'training_operation/gradients/cross_entropy/cross_entropy_grad/ExpandDims',\n",
       " 'training_operation/gradients/cross_entropy/cross_entropy_grad/mul',\n",
       " 'training_operation/gradients/cross_entropy/Reshape_grad/Shape',\n",
       " 'training_operation/gradients/cross_entropy/Reshape_grad/Reshape',\n",
       " 'training_operation/gradients/output/add_grad/Shape',\n",
       " 'training_operation/gradients/output/add_grad/Shape_1',\n",
       " 'training_operation/gradients/output/add_grad/BroadcastGradientArgs',\n",
       " 'training_operation/gradients/output/add_grad/Sum',\n",
       " 'training_operation/gradients/output/add_grad/Reshape',\n",
       " 'training_operation/gradients/output/add_grad/Sum_1',\n",
       " 'training_operation/gradients/output/add_grad/Reshape_1',\n",
       " 'training_operation/gradients/output/add_grad/tuple/group_deps',\n",
       " 'training_operation/gradients/output/add_grad/tuple/control_dependency',\n",
       " 'training_operation/gradients/output/add_grad/tuple/control_dependency_1',\n",
       " 'training_operation/gradients/output/MatMul_grad/MatMul',\n",
       " 'training_operation/gradients/output/MatMul_grad/MatMul_1',\n",
       " 'training_operation/gradients/output/MatMul_grad/tuple/group_deps',\n",
       " 'training_operation/gradients/output/MatMul_grad/tuple/control_dependency',\n",
       " 'training_operation/gradients/output/MatMul_grad/tuple/control_dependency_1',\n",
       " 'training_operation/gradients/dropout_1/mul_grad/Shape',\n",
       " 'training_operation/gradients/dropout_1/mul_grad/Shape_1',\n",
       " 'training_operation/gradients/dropout_1/mul_grad/BroadcastGradientArgs',\n",
       " 'training_operation/gradients/dropout_1/mul_grad/mul',\n",
       " 'training_operation/gradients/dropout_1/mul_grad/Sum',\n",
       " 'training_operation/gradients/dropout_1/mul_grad/Reshape',\n",
       " 'training_operation/gradients/dropout_1/mul_grad/mul_1',\n",
       " 'training_operation/gradients/dropout_1/mul_grad/Sum_1',\n",
       " 'training_operation/gradients/dropout_1/mul_grad/Reshape_1',\n",
       " 'training_operation/gradients/dropout_1/mul_grad/tuple/group_deps',\n",
       " 'training_operation/gradients/dropout_1/mul_grad/tuple/control_dependency',\n",
       " 'training_operation/gradients/dropout_1/mul_grad/tuple/control_dependency_1',\n",
       " 'training_operation/gradients/dropout_1/div_grad/Shape',\n",
       " 'training_operation/gradients/dropout_1/div_grad/Shape_1',\n",
       " 'training_operation/gradients/dropout_1/div_grad/BroadcastGradientArgs',\n",
       " 'training_operation/gradients/dropout_1/div_grad/RealDiv',\n",
       " 'training_operation/gradients/dropout_1/div_grad/Sum',\n",
       " 'training_operation/gradients/dropout_1/div_grad/Reshape',\n",
       " 'training_operation/gradients/dropout_1/div_grad/Neg',\n",
       " 'training_operation/gradients/dropout_1/div_grad/RealDiv_1',\n",
       " 'training_operation/gradients/dropout_1/div_grad/RealDiv_2',\n",
       " 'training_operation/gradients/dropout_1/div_grad/mul',\n",
       " 'training_operation/gradients/dropout_1/div_grad/Sum_1',\n",
       " 'training_operation/gradients/dropout_1/div_grad/Reshape_1',\n",
       " 'training_operation/gradients/dropout_1/div_grad/tuple/group_deps',\n",
       " 'training_operation/gradients/dropout_1/div_grad/tuple/control_dependency',\n",
       " 'training_operation/gradients/dropout_1/div_grad/tuple/control_dependency_1',\n",
       " 'training_operation/gradients/fc2/Relu_grad/ReluGrad',\n",
       " 'training_operation/gradients/fc2/add_grad/Shape',\n",
       " 'training_operation/gradients/fc2/add_grad/Shape_1',\n",
       " 'training_operation/gradients/fc2/add_grad/BroadcastGradientArgs',\n",
       " 'training_operation/gradients/fc2/add_grad/Sum',\n",
       " 'training_operation/gradients/fc2/add_grad/Reshape',\n",
       " 'training_operation/gradients/fc2/add_grad/Sum_1',\n",
       " 'training_operation/gradients/fc2/add_grad/Reshape_1',\n",
       " 'training_operation/gradients/fc2/add_grad/tuple/group_deps',\n",
       " 'training_operation/gradients/fc2/add_grad/tuple/control_dependency',\n",
       " 'training_operation/gradients/fc2/add_grad/tuple/control_dependency_1',\n",
       " 'training_operation/gradients/fc2/MatMul_grad/MatMul',\n",
       " 'training_operation/gradients/fc2/MatMul_grad/MatMul_1',\n",
       " 'training_operation/gradients/fc2/MatMul_grad/tuple/group_deps',\n",
       " 'training_operation/gradients/fc2/MatMul_grad/tuple/control_dependency',\n",
       " 'training_operation/gradients/fc2/MatMul_grad/tuple/control_dependency_1',\n",
       " 'training_operation/gradients/dropout/mul_grad/Shape',\n",
       " 'training_operation/gradients/dropout/mul_grad/Shape_1',\n",
       " 'training_operation/gradients/dropout/mul_grad/BroadcastGradientArgs',\n",
       " 'training_operation/gradients/dropout/mul_grad/mul',\n",
       " 'training_operation/gradients/dropout/mul_grad/Sum',\n",
       " 'training_operation/gradients/dropout/mul_grad/Reshape',\n",
       " 'training_operation/gradients/dropout/mul_grad/mul_1',\n",
       " 'training_operation/gradients/dropout/mul_grad/Sum_1',\n",
       " 'training_operation/gradients/dropout/mul_grad/Reshape_1',\n",
       " 'training_operation/gradients/dropout/mul_grad/tuple/group_deps',\n",
       " 'training_operation/gradients/dropout/mul_grad/tuple/control_dependency',\n",
       " 'training_operation/gradients/dropout/mul_grad/tuple/control_dependency_1',\n",
       " 'training_operation/gradients/dropout/div_grad/Shape',\n",
       " 'training_operation/gradients/dropout/div_grad/Shape_1',\n",
       " 'training_operation/gradients/dropout/div_grad/BroadcastGradientArgs',\n",
       " 'training_operation/gradients/dropout/div_grad/RealDiv',\n",
       " 'training_operation/gradients/dropout/div_grad/Sum',\n",
       " 'training_operation/gradients/dropout/div_grad/Reshape',\n",
       " 'training_operation/gradients/dropout/div_grad/Neg',\n",
       " 'training_operation/gradients/dropout/div_grad/RealDiv_1',\n",
       " 'training_operation/gradients/dropout/div_grad/RealDiv_2',\n",
       " 'training_operation/gradients/dropout/div_grad/mul',\n",
       " 'training_operation/gradients/dropout/div_grad/Sum_1',\n",
       " 'training_operation/gradients/dropout/div_grad/Reshape_1',\n",
       " 'training_operation/gradients/dropout/div_grad/tuple/group_deps',\n",
       " 'training_operation/gradients/dropout/div_grad/tuple/control_dependency',\n",
       " 'training_operation/gradients/dropout/div_grad/tuple/control_dependency_1',\n",
       " 'training_operation/gradients/fc1/Relu_grad/ReluGrad',\n",
       " 'training_operation/gradients/fc1/add_grad/Shape',\n",
       " 'training_operation/gradients/fc1/add_grad/Shape_1',\n",
       " 'training_operation/gradients/fc1/add_grad/BroadcastGradientArgs',\n",
       " 'training_operation/gradients/fc1/add_grad/Sum',\n",
       " 'training_operation/gradients/fc1/add_grad/Reshape',\n",
       " 'training_operation/gradients/fc1/add_grad/Sum_1',\n",
       " 'training_operation/gradients/fc1/add_grad/Reshape_1',\n",
       " 'training_operation/gradients/fc1/add_grad/tuple/group_deps',\n",
       " 'training_operation/gradients/fc1/add_grad/tuple/control_dependency',\n",
       " 'training_operation/gradients/fc1/add_grad/tuple/control_dependency_1',\n",
       " 'training_operation/gradients/fc1/MatMul_grad/MatMul',\n",
       " 'training_operation/gradients/fc1/MatMul_grad/MatMul_1',\n",
       " 'training_operation/gradients/fc1/MatMul_grad/tuple/group_deps',\n",
       " 'training_operation/gradients/fc1/MatMul_grad/tuple/control_dependency',\n",
       " 'training_operation/gradients/fc1/MatMul_grad/tuple/control_dependency_1',\n",
       " 'training_operation/gradients/flatten_operation/Flatten/Reshape_grad/Shape',\n",
       " 'training_operation/gradients/flatten_operation/Flatten/Reshape_grad/Reshape',\n",
       " 'training_operation/gradients/conv2/MaxPool_grad/MaxPoolGrad',\n",
       " 'training_operation/gradients/conv2/Relu_grad/ReluGrad',\n",
       " 'training_operation/gradients/conv2/add_grad/Shape',\n",
       " 'training_operation/gradients/conv2/add_grad/Shape_1',\n",
       " 'training_operation/gradients/conv2/add_grad/BroadcastGradientArgs',\n",
       " 'training_operation/gradients/conv2/add_grad/Sum',\n",
       " 'training_operation/gradients/conv2/add_grad/Reshape',\n",
       " 'training_operation/gradients/conv2/add_grad/Sum_1',\n",
       " 'training_operation/gradients/conv2/add_grad/Reshape_1',\n",
       " 'training_operation/gradients/conv2/add_grad/tuple/group_deps',\n",
       " 'training_operation/gradients/conv2/add_grad/tuple/control_dependency',\n",
       " 'training_operation/gradients/conv2/add_grad/tuple/control_dependency_1',\n",
       " 'training_operation/gradients/conv2/Conv2D_grad/Shape',\n",
       " 'training_operation/gradients/conv2/Conv2D_grad/Conv2DBackpropInput',\n",
       " 'training_operation/gradients/conv2/Conv2D_grad/Shape_1',\n",
       " 'training_operation/gradients/conv2/Conv2D_grad/Conv2DBackpropFilter',\n",
       " 'training_operation/gradients/conv2/Conv2D_grad/tuple/group_deps',\n",
       " 'training_operation/gradients/conv2/Conv2D_grad/tuple/control_dependency',\n",
       " 'training_operation/gradients/conv2/Conv2D_grad/tuple/control_dependency_1',\n",
       " 'training_operation/gradients/conv1/MaxPool_grad/MaxPoolGrad',\n",
       " 'training_operation/gradients/conv1/Relu_grad/ReluGrad',\n",
       " 'training_operation/gradients/conv1/add_grad/Shape',\n",
       " 'training_operation/gradients/conv1/add_grad/Shape_1',\n",
       " 'training_operation/gradients/conv1/add_grad/BroadcastGradientArgs',\n",
       " 'training_operation/gradients/conv1/add_grad/Sum',\n",
       " 'training_operation/gradients/conv1/add_grad/Reshape',\n",
       " 'training_operation/gradients/conv1/add_grad/Sum_1',\n",
       " 'training_operation/gradients/conv1/add_grad/Reshape_1',\n",
       " 'training_operation/gradients/conv1/add_grad/tuple/group_deps',\n",
       " 'training_operation/gradients/conv1/add_grad/tuple/control_dependency',\n",
       " 'training_operation/gradients/conv1/add_grad/tuple/control_dependency_1',\n",
       " 'training_operation/gradients/conv1/Conv2D_grad/Shape',\n",
       " 'training_operation/gradients/conv1/Conv2D_grad/Conv2DBackpropInput',\n",
       " 'training_operation/gradients/conv1/Conv2D_grad/Shape_1',\n",
       " 'training_operation/gradients/conv1/Conv2D_grad/Conv2DBackpropFilter',\n",
       " 'training_operation/gradients/conv1/Conv2D_grad/tuple/group_deps',\n",
       " 'training_operation/gradients/conv1/Conv2D_grad/tuple/control_dependency',\n",
       " 'training_operation/gradients/conv1/Conv2D_grad/tuple/control_dependency_1',\n",
       " 'training_operation/beta1_power/initial_value',\n",
       " 'training_operation/beta1_power',\n",
       " 'training_operation/beta1_power/Assign',\n",
       " 'training_operation/beta1_power/read',\n",
       " 'training_operation/beta2_power/initial_value',\n",
       " 'training_operation/beta2_power',\n",
       " 'training_operation/beta2_power/Assign',\n",
       " 'training_operation/beta2_power/read',\n",
       " 'conv1/W/optimizer/Initializer/Const',\n",
       " 'conv1/W/optimizer',\n",
       " 'conv1/W/optimizer/Assign',\n",
       " 'conv1/W/optimizer/read',\n",
       " 'conv1/W/optimizer_1/Initializer/Const',\n",
       " 'conv1/W/optimizer_1',\n",
       " 'conv1/W/optimizer_1/Assign',\n",
       " 'conv1/W/optimizer_1/read',\n",
       " 'conv1/B/optimizer/Initializer/Const',\n",
       " 'conv1/B/optimizer',\n",
       " 'conv1/B/optimizer/Assign',\n",
       " 'conv1/B/optimizer/read',\n",
       " 'conv1/B/optimizer_1/Initializer/Const',\n",
       " 'conv1/B/optimizer_1',\n",
       " 'conv1/B/optimizer_1/Assign',\n",
       " 'conv1/B/optimizer_1/read',\n",
       " 'conv2/W/optimizer/Initializer/Const',\n",
       " 'conv2/W/optimizer',\n",
       " 'conv2/W/optimizer/Assign',\n",
       " 'conv2/W/optimizer/read',\n",
       " 'conv2/W/optimizer_1/Initializer/Const',\n",
       " 'conv2/W/optimizer_1',\n",
       " 'conv2/W/optimizer_1/Assign',\n",
       " 'conv2/W/optimizer_1/read',\n",
       " 'conv2/B/optimizer/Initializer/Const',\n",
       " 'conv2/B/optimizer',\n",
       " 'conv2/B/optimizer/Assign',\n",
       " 'conv2/B/optimizer/read',\n",
       " 'conv2/B/optimizer_1/Initializer/Const',\n",
       " 'conv2/B/optimizer_1',\n",
       " 'conv2/B/optimizer_1/Assign',\n",
       " 'conv2/B/optimizer_1/read',\n",
       " 'fc1/W/optimizer/Initializer/Const',\n",
       " 'fc1/W/optimizer',\n",
       " 'fc1/W/optimizer/Assign',\n",
       " 'fc1/W/optimizer/read',\n",
       " 'fc1/W/optimizer_1/Initializer/Const',\n",
       " 'fc1/W/optimizer_1',\n",
       " 'fc1/W/optimizer_1/Assign',\n",
       " 'fc1/W/optimizer_1/read',\n",
       " 'fc1/B/optimizer/Initializer/Const',\n",
       " 'fc1/B/optimizer',\n",
       " 'fc1/B/optimizer/Assign',\n",
       " 'fc1/B/optimizer/read',\n",
       " 'fc1/B/optimizer_1/Initializer/Const',\n",
       " 'fc1/B/optimizer_1',\n",
       " 'fc1/B/optimizer_1/Assign',\n",
       " 'fc1/B/optimizer_1/read',\n",
       " 'fc2/W/optimizer/Initializer/Const',\n",
       " 'fc2/W/optimizer',\n",
       " 'fc2/W/optimizer/Assign',\n",
       " 'fc2/W/optimizer/read',\n",
       " 'fc2/W/optimizer_1/Initializer/Const',\n",
       " 'fc2/W/optimizer_1',\n",
       " 'fc2/W/optimizer_1/Assign',\n",
       " 'fc2/W/optimizer_1/read',\n",
       " 'fc2/B/optimizer/Initializer/Const',\n",
       " 'fc2/B/optimizer',\n",
       " 'fc2/B/optimizer/Assign',\n",
       " 'fc2/B/optimizer/read',\n",
       " 'fc2/B/optimizer_1/Initializer/Const',\n",
       " 'fc2/B/optimizer_1',\n",
       " 'fc2/B/optimizer_1/Assign',\n",
       " 'fc2/B/optimizer_1/read',\n",
       " 'output/W/optimizer/Initializer/Const',\n",
       " 'output/W/optimizer',\n",
       " 'output/W/optimizer/Assign',\n",
       " 'output/W/optimizer/read',\n",
       " 'output/W/optimizer_1/Initializer/Const',\n",
       " 'output/W/optimizer_1',\n",
       " 'output/W/optimizer_1/Assign',\n",
       " 'output/W/optimizer_1/read',\n",
       " 'output/B/optimizer/Initializer/Const',\n",
       " 'output/B/optimizer',\n",
       " 'output/B/optimizer/Assign',\n",
       " 'output/B/optimizer/read',\n",
       " 'output/B/optimizer_1/Initializer/Const',\n",
       " 'output/B/optimizer_1',\n",
       " 'output/B/optimizer_1/Assign',\n",
       " 'output/B/optimizer_1/read',\n",
       " 'training_operation/optimizer/learning_rate',\n",
       " 'training_operation/optimizer/beta1',\n",
       " 'training_operation/optimizer/beta2',\n",
       " 'training_operation/optimizer/epsilon',\n",
       " 'training_operation/optimizer/update_conv1/W/ApplyAdam',\n",
       " 'training_operation/optimizer/update_conv1/B/ApplyAdam',\n",
       " 'training_operation/optimizer/update_conv2/W/ApplyAdam',\n",
       " 'training_operation/optimizer/update_conv2/B/ApplyAdam',\n",
       " 'training_operation/optimizer/update_fc1/W/ApplyAdam',\n",
       " 'training_operation/optimizer/update_fc1/B/ApplyAdam',\n",
       " 'training_operation/optimizer/update_fc2/W/ApplyAdam',\n",
       " 'training_operation/optimizer/update_fc2/B/ApplyAdam',\n",
       " 'training_operation/optimizer/update_output/W/ApplyAdam',\n",
       " 'training_operation/optimizer/update_output/B/ApplyAdam',\n",
       " 'training_operation/optimizer/mul',\n",
       " 'training_operation/optimizer/Assign',\n",
       " 'training_operation/optimizer/mul_1',\n",
       " 'training_operation/optimizer/Assign_1',\n",
       " 'training_operation/optimizer',\n",
       " 'predictions/Softmax',\n",
       " 'predictions/predictions/dimension',\n",
       " 'predictions/predictions',\n",
       " 'probability/probability',\n",
       " 'correct_prediction/ArgMax/dimension',\n",
       " 'correct_prediction/ArgMax',\n",
       " 'correct_prediction/ArgMax_1/dimension',\n",
       " 'correct_prediction/ArgMax_1',\n",
       " 'correct_prediction/correct_prediction',\n",
       " 'accuracy_operation/Cast',\n",
       " 'accuracy_operation/Rank',\n",
       " 'accuracy_operation/range/start',\n",
       " 'accuracy_operation/range/delta',\n",
       " 'accuracy_operation/range',\n",
       " 'accuracy_operation/accuracy_operation',\n",
       " 'loss/tags',\n",
       " 'loss',\n",
       " 'accuracy/tags',\n",
       " 'accuracy',\n",
       " 'save/Const',\n",
       " 'save/SaveV2/tensor_names',\n",
       " 'save/SaveV2/shape_and_slices',\n",
       " 'save/SaveV2',\n",
       " 'save/control_dependency',\n",
       " 'save/RestoreV2/tensor_names',\n",
       " 'save/RestoreV2/shape_and_slices',\n",
       " 'save/RestoreV2',\n",
       " 'save/Assign',\n",
       " 'save/RestoreV2_1/tensor_names',\n",
       " 'save/RestoreV2_1/shape_and_slices',\n",
       " 'save/RestoreV2_1',\n",
       " 'save/Assign_1',\n",
       " 'save/RestoreV2_2/tensor_names',\n",
       " 'save/RestoreV2_2/shape_and_slices',\n",
       " 'save/RestoreV2_2',\n",
       " 'save/Assign_2',\n",
       " 'save/RestoreV2_3/tensor_names',\n",
       " 'save/RestoreV2_3/shape_and_slices',\n",
       " 'save/RestoreV2_3',\n",
       " 'save/Assign_3',\n",
       " 'save/RestoreV2_4/tensor_names',\n",
       " 'save/RestoreV2_4/shape_and_slices',\n",
       " 'save/RestoreV2_4',\n",
       " 'save/Assign_4',\n",
       " 'save/RestoreV2_5/tensor_names',\n",
       " 'save/RestoreV2_5/shape_and_slices',\n",
       " 'save/RestoreV2_5',\n",
       " 'save/Assign_5',\n",
       " 'save/RestoreV2_6/tensor_names',\n",
       " 'save/RestoreV2_6/shape_and_slices',\n",
       " 'save/RestoreV2_6',\n",
       " 'save/Assign_6',\n",
       " 'save/RestoreV2_7/tensor_names',\n",
       " 'save/RestoreV2_7/shape_and_slices',\n",
       " 'save/RestoreV2_7',\n",
       " 'save/Assign_7',\n",
       " 'save/RestoreV2_8/tensor_names',\n",
       " 'save/RestoreV2_8/shape_and_slices',\n",
       " 'save/RestoreV2_8',\n",
       " 'save/Assign_8',\n",
       " 'save/RestoreV2_9/tensor_names',\n",
       " 'save/RestoreV2_9/shape_and_slices',\n",
       " 'save/RestoreV2_9',\n",
       " 'save/Assign_9',\n",
       " 'save/RestoreV2_10/tensor_names',\n",
       " 'save/RestoreV2_10/shape_and_slices',\n",
       " 'save/RestoreV2_10',\n",
       " 'save/Assign_10',\n",
       " 'save/RestoreV2_11/tensor_names',\n",
       " 'save/RestoreV2_11/shape_and_slices',\n",
       " 'save/RestoreV2_11',\n",
       " 'save/Assign_11',\n",
       " 'save/RestoreV2_12/tensor_names',\n",
       " 'save/RestoreV2_12/shape_and_slices',\n",
       " 'save/RestoreV2_12',\n",
       " 'save/Assign_12',\n",
       " 'save/RestoreV2_13/tensor_names',\n",
       " 'save/RestoreV2_13/shape_and_slices',\n",
       " 'save/RestoreV2_13',\n",
       " 'save/Assign_13',\n",
       " 'save/RestoreV2_14/tensor_names',\n",
       " 'save/RestoreV2_14/shape_and_slices',\n",
       " 'save/RestoreV2_14',\n",
       " 'save/Assign_14',\n",
       " 'save/RestoreV2_15/tensor_names',\n",
       " 'save/RestoreV2_15/shape_and_slices',\n",
       " 'save/RestoreV2_15',\n",
       " 'save/Assign_15',\n",
       " 'save/RestoreV2_16/tensor_names',\n",
       " 'save/RestoreV2_16/shape_and_slices',\n",
       " 'save/RestoreV2_16',\n",
       " 'save/Assign_16',\n",
       " 'save/RestoreV2_17/tensor_names',\n",
       " 'save/RestoreV2_17/shape_and_slices',\n",
       " 'save/RestoreV2_17',\n",
       " 'save/Assign_17',\n",
       " 'save/RestoreV2_18/tensor_names',\n",
       " 'save/RestoreV2_18/shape_and_slices',\n",
       " 'save/RestoreV2_18',\n",
       " 'save/Assign_18',\n",
       " 'save/RestoreV2_19/tensor_names',\n",
       " 'save/RestoreV2_19/shape_and_slices',\n",
       " 'save/RestoreV2_19',\n",
       " 'save/Assign_19',\n",
       " 'save/RestoreV2_20/tensor_names',\n",
       " 'save/RestoreV2_20/shape_and_slices',\n",
       " 'save/RestoreV2_20',\n",
       " 'save/Assign_20',\n",
       " 'save/RestoreV2_21/tensor_names',\n",
       " 'save/RestoreV2_21/shape_and_slices',\n",
       " 'save/RestoreV2_21',\n",
       " 'save/Assign_21',\n",
       " 'save/RestoreV2_22/tensor_names',\n",
       " 'save/RestoreV2_22/shape_and_slices',\n",
       " 'save/RestoreV2_22',\n",
       " 'save/Assign_22',\n",
       " 'save/RestoreV2_23/tensor_names',\n",
       " 'save/RestoreV2_23/shape_and_slices',\n",
       " 'save/RestoreV2_23',\n",
       " 'save/Assign_23',\n",
       " 'save/RestoreV2_24/tensor_names',\n",
       " 'save/RestoreV2_24/shape_and_slices',\n",
       " 'save/RestoreV2_24',\n",
       " 'save/Assign_24',\n",
       " 'save/RestoreV2_25/tensor_names',\n",
       " 'save/RestoreV2_25/shape_and_slices',\n",
       " 'save/RestoreV2_25',\n",
       " 'save/Assign_25',\n",
       " 'save/RestoreV2_26/tensor_names',\n",
       " 'save/RestoreV2_26/shape_and_slices',\n",
       " 'save/RestoreV2_26',\n",
       " 'save/Assign_26',\n",
       " 'save/RestoreV2_27/tensor_names',\n",
       " 'save/RestoreV2_27/shape_and_slices',\n",
       " 'save/RestoreV2_27',\n",
       " 'save/Assign_27',\n",
       " 'save/RestoreV2_28/tensor_names',\n",
       " 'save/RestoreV2_28/shape_and_slices',\n",
       " 'save/RestoreV2_28',\n",
       " 'save/Assign_28',\n",
       " 'save/RestoreV2_29/tensor_names',\n",
       " 'save/RestoreV2_29/shape_and_slices',\n",
       " 'save/RestoreV2_29',\n",
       " 'save/Assign_29',\n",
       " 'save/RestoreV2_30/tensor_names',\n",
       " 'save/RestoreV2_30/shape_and_slices',\n",
       " 'save/RestoreV2_30',\n",
       " 'save/Assign_30',\n",
       " 'save/RestoreV2_31/tensor_names',\n",
       " 'save/RestoreV2_31/shape_and_slices',\n",
       " 'save/RestoreV2_31',\n",
       " 'save/Assign_31',\n",
       " 'save/restore_all',\n",
       " 'Merge/MergeSummary',\n",
       " 'init',\n",
       " 'Merge_1/MergeSummary',\n",
       " 'init_1',\n",
       " 'Merge_2/MergeSummary',\n",
       " 'init_2',\n",
       " 'Merge_3/MergeSummary',\n",
       " 'init_3',\n",
       " 'Merge_4/MergeSummary',\n",
       " 'init_4',\n",
       " 'Merge_5/MergeSummary',\n",
       " 'init_5']"
      ]
     },
     "execution_count": 30,
     "metadata": {},
     "output_type": "execute_result"
    }
   ],
   "source": [
    "[tensor.name for tensor in tf.get_default_graph().as_graph_def().node]"
   ]
  },
  {
   "cell_type": "code",
   "execution_count": 36,
   "metadata": {},
   "outputs": [
    {
     "ename": "ValueError",
     "evalue": "Variable conv1/w does not exist, or was not created with tf.get_variable(). Did you mean to set reuse=None in VarScope?",
     "output_type": "error",
     "traceback": [
      "\u001b[1;31m---------------------------------------------------------------------------\u001b[0m",
      "\u001b[1;31mValueError\u001b[0m                                Traceback (most recent call last)",
      "\u001b[1;32m<ipython-input-36-4cd7ef05f575>\u001b[0m in \u001b[0;36m<module>\u001b[1;34m()\u001b[0m\n\u001b[0;32m     11\u001b[0m \u001b[1;32mwith\u001b[0m \u001b[0mtf\u001b[0m\u001b[1;33m.\u001b[0m\u001b[0mvariable_scope\u001b[0m\u001b[1;33m(\u001b[0m\u001b[1;34m\"conv1\"\u001b[0m\u001b[1;33m)\u001b[0m \u001b[1;32mas\u001b[0m \u001b[0mscope_conv\u001b[0m\u001b[1;33m:\u001b[0m\u001b[1;33m\u001b[0m\u001b[0m\n\u001b[0;32m     12\u001b[0m     \u001b[0mtf\u001b[0m\u001b[1;33m.\u001b[0m\u001b[0mget_variable_scope\u001b[0m\u001b[1;33m(\u001b[0m\u001b[1;33m)\u001b[0m\u001b[1;33m.\u001b[0m\u001b[0mreuse_variables\u001b[0m\u001b[1;33m(\u001b[0m\u001b[1;33m)\u001b[0m\u001b[1;33m\u001b[0m\u001b[0m\n\u001b[1;32m---> 13\u001b[1;33m     \u001b[0mweights1\u001b[0m \u001b[1;33m=\u001b[0m \u001b[0mtf\u001b[0m\u001b[1;33m.\u001b[0m\u001b[0mget_variable\u001b[0m\u001b[1;33m(\u001b[0m\u001b[1;34m\"w\"\u001b[0m\u001b[1;33m)\u001b[0m\u001b[1;33m\u001b[0m\u001b[0m\n\u001b[0m\u001b[0;32m     14\u001b[0m \u001b[1;33m\u001b[0m\u001b[0m\n\u001b[0;32m     15\u001b[0m \u001b[1;32mwith\u001b[0m \u001b[0mtf\u001b[0m\u001b[1;33m.\u001b[0m\u001b[0mvariable_scope\u001b[0m\u001b[1;33m(\u001b[0m\u001b[1;34m\"conv2\"\u001b[0m\u001b[1;33m)\u001b[0m \u001b[1;32mas\u001b[0m \u001b[0mscope_conv\u001b[0m\u001b[1;33m:\u001b[0m\u001b[1;33m\u001b[0m\u001b[0m\n",
      "\u001b[1;32mC:\\Users\\agoil\\Anaconda3\\envs\\carnd-term1\\lib\\site-packages\\tensorflow\\python\\ops\\variable_scope.py\u001b[0m in \u001b[0;36mget_variable\u001b[1;34m(name, shape, dtype, initializer, regularizer, trainable, collections, caching_device, partitioner, validate_shape, use_resource, custom_getter)\u001b[0m\n\u001b[0;32m   1047\u001b[0m       \u001b[0mcollections\u001b[0m\u001b[1;33m=\u001b[0m\u001b[0mcollections\u001b[0m\u001b[1;33m,\u001b[0m \u001b[0mcaching_device\u001b[0m\u001b[1;33m=\u001b[0m\u001b[0mcaching_device\u001b[0m\u001b[1;33m,\u001b[0m\u001b[1;33m\u001b[0m\u001b[0m\n\u001b[0;32m   1048\u001b[0m       \u001b[0mpartitioner\u001b[0m\u001b[1;33m=\u001b[0m\u001b[0mpartitioner\u001b[0m\u001b[1;33m,\u001b[0m \u001b[0mvalidate_shape\u001b[0m\u001b[1;33m=\u001b[0m\u001b[0mvalidate_shape\u001b[0m\u001b[1;33m,\u001b[0m\u001b[1;33m\u001b[0m\u001b[0m\n\u001b[1;32m-> 1049\u001b[1;33m       use_resource=use_resource, custom_getter=custom_getter)\n\u001b[0m\u001b[0;32m   1050\u001b[0m get_variable_or_local_docstring = (\n\u001b[0;32m   1051\u001b[0m     \"\"\"%s\n",
      "\u001b[1;32mC:\\Users\\agoil\\Anaconda3\\envs\\carnd-term1\\lib\\site-packages\\tensorflow\\python\\ops\\variable_scope.py\u001b[0m in \u001b[0;36mget_variable\u001b[1;34m(self, var_store, name, shape, dtype, initializer, regularizer, trainable, collections, caching_device, partitioner, validate_shape, use_resource, custom_getter)\u001b[0m\n\u001b[0;32m    946\u001b[0m           \u001b[0mcollections\u001b[0m\u001b[1;33m=\u001b[0m\u001b[0mcollections\u001b[0m\u001b[1;33m,\u001b[0m \u001b[0mcaching_device\u001b[0m\u001b[1;33m=\u001b[0m\u001b[0mcaching_device\u001b[0m\u001b[1;33m,\u001b[0m\u001b[1;33m\u001b[0m\u001b[0m\n\u001b[0;32m    947\u001b[0m           \u001b[0mpartitioner\u001b[0m\u001b[1;33m=\u001b[0m\u001b[0mpartitioner\u001b[0m\u001b[1;33m,\u001b[0m \u001b[0mvalidate_shape\u001b[0m\u001b[1;33m=\u001b[0m\u001b[0mvalidate_shape\u001b[0m\u001b[1;33m,\u001b[0m\u001b[1;33m\u001b[0m\u001b[0m\n\u001b[1;32m--> 948\u001b[1;33m           use_resource=use_resource, custom_getter=custom_getter)\n\u001b[0m\u001b[0;32m    949\u001b[0m \u001b[1;33m\u001b[0m\u001b[0m\n\u001b[0;32m    950\u001b[0m   def _get_partitioned_variable(self,\n",
      "\u001b[1;32mC:\\Users\\agoil\\Anaconda3\\envs\\carnd-term1\\lib\\site-packages\\tensorflow\\python\\ops\\variable_scope.py\u001b[0m in \u001b[0;36mget_variable\u001b[1;34m(self, name, shape, dtype, initializer, regularizer, reuse, trainable, collections, caching_device, partitioner, validate_shape, use_resource, custom_getter)\u001b[0m\n\u001b[0;32m    354\u001b[0m           \u001b[0mreuse\u001b[0m\u001b[1;33m=\u001b[0m\u001b[0mreuse\u001b[0m\u001b[1;33m,\u001b[0m \u001b[0mtrainable\u001b[0m\u001b[1;33m=\u001b[0m\u001b[0mtrainable\u001b[0m\u001b[1;33m,\u001b[0m \u001b[0mcollections\u001b[0m\u001b[1;33m=\u001b[0m\u001b[0mcollections\u001b[0m\u001b[1;33m,\u001b[0m\u001b[1;33m\u001b[0m\u001b[0m\n\u001b[0;32m    355\u001b[0m           \u001b[0mcaching_device\u001b[0m\u001b[1;33m=\u001b[0m\u001b[0mcaching_device\u001b[0m\u001b[1;33m,\u001b[0m \u001b[0mpartitioner\u001b[0m\u001b[1;33m=\u001b[0m\u001b[0mpartitioner\u001b[0m\u001b[1;33m,\u001b[0m\u001b[1;33m\u001b[0m\u001b[0m\n\u001b[1;32m--> 356\u001b[1;33m           validate_shape=validate_shape, use_resource=use_resource)\n\u001b[0m\u001b[0;32m    357\u001b[0m \u001b[1;33m\u001b[0m\u001b[0m\n\u001b[0;32m    358\u001b[0m   def _get_partitioned_variable(\n",
      "\u001b[1;32mC:\\Users\\agoil\\Anaconda3\\envs\\carnd-term1\\lib\\site-packages\\tensorflow\\python\\ops\\variable_scope.py\u001b[0m in \u001b[0;36m_true_getter\u001b[1;34m(name, shape, dtype, initializer, regularizer, reuse, trainable, collections, caching_device, partitioner, validate_shape, use_resource)\u001b[0m\n\u001b[0;32m    339\u001b[0m           \u001b[0mtrainable\u001b[0m\u001b[1;33m=\u001b[0m\u001b[0mtrainable\u001b[0m\u001b[1;33m,\u001b[0m \u001b[0mcollections\u001b[0m\u001b[1;33m=\u001b[0m\u001b[0mcollections\u001b[0m\u001b[1;33m,\u001b[0m\u001b[1;33m\u001b[0m\u001b[0m\n\u001b[0;32m    340\u001b[0m           \u001b[0mcaching_device\u001b[0m\u001b[1;33m=\u001b[0m\u001b[0mcaching_device\u001b[0m\u001b[1;33m,\u001b[0m \u001b[0mvalidate_shape\u001b[0m\u001b[1;33m=\u001b[0m\u001b[0mvalidate_shape\u001b[0m\u001b[1;33m,\u001b[0m\u001b[1;33m\u001b[0m\u001b[0m\n\u001b[1;32m--> 341\u001b[1;33m           use_resource=use_resource)\n\u001b[0m\u001b[0;32m    342\u001b[0m \u001b[1;33m\u001b[0m\u001b[0m\n\u001b[0;32m    343\u001b[0m     \u001b[1;32mif\u001b[0m \u001b[0mcustom_getter\u001b[0m \u001b[1;32mis\u001b[0m \u001b[1;32mnot\u001b[0m \u001b[1;32mNone\u001b[0m\u001b[1;33m:\u001b[0m\u001b[1;33m\u001b[0m\u001b[0m\n",
      "\u001b[1;32mC:\\Users\\agoil\\Anaconda3\\envs\\carnd-term1\\lib\\site-packages\\tensorflow\\python\\ops\\variable_scope.py\u001b[0m in \u001b[0;36m_get_single_variable\u001b[1;34m(self, name, shape, dtype, initializer, regularizer, partition_info, reuse, trainable, collections, caching_device, validate_shape, use_resource)\u001b[0m\n\u001b[0;32m    669\u001b[0m       raise ValueError(\"Variable %s does not exist, or was not created with \"\n\u001b[0;32m    670\u001b[0m                        \u001b[1;34m\"tf.get_variable(). Did you mean to set reuse=None in \"\u001b[0m\u001b[1;33m\u001b[0m\u001b[0m\n\u001b[1;32m--> 671\u001b[1;33m                        \"VarScope?\" % name)\n\u001b[0m\u001b[0;32m    672\u001b[0m     \u001b[1;32mif\u001b[0m \u001b[1;32mnot\u001b[0m \u001b[0mshape\u001b[0m\u001b[1;33m.\u001b[0m\u001b[0mis_fully_defined\u001b[0m\u001b[1;33m(\u001b[0m\u001b[1;33m)\u001b[0m \u001b[1;32mand\u001b[0m \u001b[1;32mnot\u001b[0m \u001b[0minitializing_from_value\u001b[0m\u001b[1;33m:\u001b[0m\u001b[1;33m\u001b[0m\u001b[0m\n\u001b[0;32m    673\u001b[0m       raise ValueError(\"Shape of a new variable (%s) must be fully defined, \"\n",
      "\u001b[1;31mValueError\u001b[0m: Variable conv1/w does not exist, or was not created with tf.get_variable(). Did you mean to set reuse=None in VarScope?"
     ]
    }
   ],
   "source": [
    "### Train your model here.\n",
    "### Calculate and report the accuracy on the training and validation set.\n",
    "### Once a final model architecture is selected, \n",
    "### the accuracy on the test set should be calculated and reported as well.\n",
    "### Feel free to use as many code cells as needed.\n",
    "\n",
    "rate = 0.001\n",
    "beta = 0.01\n",
    "\n",
    "graphh = tf.get_default_graph()\n",
    "with tf.variable_scope(\"conv1\") as scope_conv: \n",
    "    tf.get_variable_scope().reuse_variables()\n",
    "    weights1 = tf.get_variable(\"w\")\n",
    "\n",
    "with tf.variable_scope(\"conv2\") as scope_conv: \n",
    "    tf.get_variable_scope().reuse_variables()\n",
    "    weights2 = tf.get_variable(\"w\")\n",
    "    \n",
    "with tf.name_scope(\"cross_entropy\"):\n",
    "    cross_entropy = tf.nn.softmax_cross_entropy_with_logits(labels=one_hot_y, logits=logits, name=\"cross_entropy\")\n",
    "with tf.name_scope(\"ce_loss\"):\n",
    "    ce_loss = tf.reduce_mean(cross_entropy, name=\"ce_loss\")\n",
    "with tf.name_scope(\"l2_loss\"):\n",
    "    regularizers = tf.nn.l2_loss(weights1) + tf.nn.l2_loss(weights2)\n",
    "    l2_loss = tf.reduce_mean(ce_loss + beta * regularizers)\n",
    "    \n",
    "with tf.name_scope(\"optimizer\"):\n",
    "    optimizer = tf.train.AdamOptimizer(learning_rate = rate, name=\"optimizer\")\n",
    "with tf.name_scope(\"training_operation\"):\n",
    "    training_operation = optimizer.minimize(l2_loss)"
   ]
  },
  {
   "cell_type": "code",
   "execution_count": 20,
   "metadata": {
    "collapsed": true
   },
   "outputs": [],
   "source": [
    "with tf.name_scope(\"predictions\"):\n",
    "    predictions = tf.argmax(tf.nn.softmax(logits), 1, name=\"predictions\")\n",
    "with tf.name_scope(\"probability\"):\n",
    "    probability = tf.nn.softmax(logits, name=\"probability\")\n",
    "\n",
    "with tf.name_scope(\"correct_prediction\"):\n",
    "    correct_prediction = tf.equal(tf.argmax(logits, 1), tf.argmax(one_hot_y, 1), name=\"correct_prediction\")\n",
    "with tf.name_scope(\"accuracy_operation\"):\n",
    "    accuracy_operation = tf.reduce_mean(tf.cast(correct_prediction, tf.float32), name=\"accuracy_operation\")\n",
    "    \n",
    "tf.summary.scalar(\"loss\", loss_operation) \n",
    "tf.summary.scalar(\"accuracy\", accuracy_operation)\n",
    "\n",
    "saver = tf.train.Saver()\n",
    "\n",
    "def evaluate(X_data, y_data):\n",
    "    num_examples = len(X_data)\n",
    "    total_accuracy = 0\n",
    "    sess = tf.get_default_session()\n",
    "    for offset in range(0, num_examples, BATCH_SIZE):\n",
    "        batch_x, batch_y = X_data[offset:offset+BATCH_SIZE], y_data[offset:offset+BATCH_SIZE]\n",
    "        accuracy = sess.run(accuracy_operation, feed_dict={inputs: batch_x, labels: batch_y, keep_prob: 1.})\n",
    "        total_accuracy += (accuracy * len(batch_x))\n",
    "    return total_accuracy / num_examples"
   ]
  },
  {
   "cell_type": "code",
   "execution_count": 21,
   "metadata": {
    "collapsed": true
   },
   "outputs": [],
   "source": [
    "# Export the nodes\n",
    "from collections import namedtuple\n",
    "export_nodes = [\"inputs\", \"labels\", \"keep_prob\", \"loss_operation\", \"predictions\", \"accuracy_operation\"]\n",
    "Graph = namedtuple('Graph', export_nodes)\n",
    "local_dict = locals()\n",
    "graph = Graph(*[local_dict[each] for each in export_nodes])"
   ]
  },
  {
   "cell_type": "code",
   "execution_count": 27,
   "metadata": {},
   "outputs": [
    {
     "name": "stdout",
     "output_type": "stream",
     "text": [
      "Training...\n",
      "\n",
      "EPOCH 1 ...\n",
      "Training Accuracy = 0.468\n",
      "Validation Accuracy = 0.654\n",
      "\n",
      "EPOCH 2 ...\n",
      "Training Accuracy = 0.730\n",
      "Validation Accuracy = 0.795\n",
      "\n",
      "EPOCH 3 ...\n",
      "Training Accuracy = 0.694\n",
      "Validation Accuracy = 0.851\n",
      "\n",
      "EPOCH 4 ...\n",
      "Training Accuracy = 0.775\n",
      "Validation Accuracy = 0.881\n",
      "\n",
      "EPOCH 5 ...\n",
      "Training Accuracy = 0.865\n",
      "Validation Accuracy = 0.906\n",
      "\n",
      "EPOCH 6 ...\n",
      "Training Accuracy = 0.856\n",
      "Validation Accuracy = 0.913\n",
      "\n",
      "EPOCH 7 ...\n",
      "Training Accuracy = 0.865\n",
      "Validation Accuracy = 0.920\n",
      "\n",
      "EPOCH 8 ...\n",
      "Training Accuracy = 0.874\n",
      "Validation Accuracy = 0.923\n",
      "\n",
      "EPOCH 9 ...\n",
      "Training Accuracy = 0.829\n",
      "Validation Accuracy = 0.931\n",
      "\n",
      "EPOCH 10 ...\n",
      "Training Accuracy = 0.883\n",
      "Validation Accuracy = 0.935\n",
      "\n",
      "EPOCH 11 ...\n",
      "Training Accuracy = 0.883\n",
      "Validation Accuracy = 0.943\n",
      "\n",
      "EPOCH 12 ...\n",
      "Training Accuracy = 0.937\n",
      "Validation Accuracy = 0.946\n",
      "\n",
      "EPOCH 13 ...\n",
      "Training Accuracy = 0.910\n",
      "Validation Accuracy = 0.951\n",
      "\n",
      "EPOCH 14 ...\n",
      "Training Accuracy = 0.946\n",
      "Validation Accuracy = 0.948\n",
      "\n",
      "EPOCH 15 ...\n",
      "Training Accuracy = 0.901\n",
      "Validation Accuracy = 0.951\n",
      "\n",
      "EPOCH 16 ...\n",
      "Training Accuracy = 0.874\n",
      "Validation Accuracy = 0.950\n",
      "\n",
      "EPOCH 17 ...\n",
      "Training Accuracy = 0.955\n",
      "Validation Accuracy = 0.954\n",
      "\n",
      "EPOCH 18 ...\n",
      "Training Accuracy = 0.901\n",
      "Validation Accuracy = 0.958\n",
      "\n",
      "EPOCH 19 ...\n",
      "Training Accuracy = 0.919\n",
      "Validation Accuracy = 0.957\n",
      "\n",
      "EPOCH 20 ...\n",
      "Training Accuracy = 0.910\n",
      "Validation Accuracy = 0.955\n",
      "\n",
      "EPOCH 21 ...\n",
      "Training Accuracy = 0.955\n",
      "Validation Accuracy = 0.959\n",
      "\n",
      "EPOCH 22 ...\n",
      "Training Accuracy = 0.937\n",
      "Validation Accuracy = 0.956\n",
      "\n",
      "EPOCH 23 ...\n",
      "Training Accuracy = 0.946\n",
      "Validation Accuracy = 0.956\n",
      "\n",
      "EPOCH 24 ...\n",
      "Training Accuracy = 0.955\n",
      "Validation Accuracy = 0.963\n",
      "\n",
      "EPOCH 25 ...\n",
      "Training Accuracy = 0.964\n",
      "Validation Accuracy = 0.962\n",
      "\n",
      "Model saved\n"
     ]
    }
   ],
   "source": [
    "with tf.Session() as sess:\n",
    "    merged_summary = tf.summary.merge_all()\n",
    "    sess.run(tf.global_variables_initializer())\n",
    "    file_writer = tf.summary.FileWriter(\"./logs/train/1\", sess.graph)\n",
    "    \n",
    "    num_examples = len(X_train_pre)\n",
    "    \n",
    "    print(\"Training...\")\n",
    "    print()\n",
    "    for i in range(EPOCHS):\n",
    "        X_train_pre, y_train = shuffle(X_train_pre, y_train)\n",
    "        for offset in range(0, num_examples, BATCH_SIZE):\n",
    "            end = offset + BATCH_SIZE\n",
    "            batch_x, batch_y = X_train_pre[offset:end], y_train[offset:end]\n",
    "            if (offset % 5) == 0:\n",
    "                s = sess.run(merged_summary, feed_dict={inputs: batch_x, labels: batch_y, keep_prob: 1.})\n",
    "                file_writer.add_summary(s, offset)                \n",
    "            sess.run(training_operation, feed_dict={inputs: batch_x, labels: batch_y, keep_prob: 1.})\n",
    "            training_accuracy = sess.run(accuracy_operation, feed_dict={inputs: batch_x, labels: batch_y, keep_prob: 1.})\n",
    "            \n",
    "        validation_accuracy = evaluate(X_valid_pre, y_valid)\n",
    "        print(\"EPOCH {} ...\".format(i+1))\n",
    "        print(\"Training Accuracy = {:.3f}\".format(training_accuracy))\n",
    "        print(\"Validation Accuracy = {:.3f}\".format(validation_accuracy))\n",
    "        print()\n",
    "        \n",
    "    saver.save(sess, './lenet')\n",
    "\n",
    "    print(\"Model saved\")"
   ]
  },
  {
   "cell_type": "code",
   "execution_count": null,
   "metadata": {
    "collapsed": true
   },
   "outputs": [],
   "source": [
    "with tf.Session() as sess:\n",
    "    saver.restore(sess, tf.train.latest_checkpoint('.'))\n",
    "\n",
    "    test_accuracy = evaluate(X_test_pre, y_test)\n",
    "    print(\"Test Accuracy = {:.3f}\".format(test_accuracy))"
   ]
  },
  {
   "cell_type": "markdown",
   "metadata": {},
   "source": [
    "---\n",
    "\n",
    "## Step 3: Test a Model on New Images\n",
    "\n",
    "To give yourself more insight into how your model is working, download at least five pictures of German traffic signs from the web and use your model to predict the traffic sign type.\n",
    "\n",
    "You may find `signnames.csv` useful as it contains mappings from the class id (integer) to the actual sign name."
   ]
  },
  {
   "cell_type": "markdown",
   "metadata": {},
   "source": [
    "### Load and Output the Images"
   ]
  },
  {
   "cell_type": "code",
   "execution_count": null,
   "metadata": {
    "collapsed": true
   },
   "outputs": [],
   "source": [
    "### Load the images and plot them here.\n",
    "### Feel free to use as many code cells as needed.\n",
    "X_from_web = []\n",
    "for i in range(5):\n",
    "    im = mpimg.imread('traffic_signs_web/0013{}.ppm'.format(i))\n",
    "    im = cv2.resize(im, (32,32), interpolation = cv2.INTER_CUBIC)\n",
    "    X_from_web.append(im)\n",
    "\n",
    "for i in range(5):\n",
    "    plt.subplot(2, 3, i+1)\n",
    "    plt.imshow(X_from_web[i])\n",
    "    plt.axis('off')\n",
    "plt.suptitle('Five German Traffic signs from the web')\n",
    "plt.show()\n",
    "print(\"Image data shape =\", np.shape(X_from_web[0]))"
   ]
  },
  {
   "cell_type": "markdown",
   "metadata": {},
   "source": [
    "### Predict the Sign Type for Each Image"
   ]
  },
  {
   "cell_type": "code",
   "execution_count": null,
   "metadata": {
    "collapsed": true
   },
   "outputs": [],
   "source": [
    "### Run the predictions here and use the model to output the prediction for each image.\n",
    "### Make sure to pre-process the images with the same pre-processing pipeline used earlier.\n",
    "### Feel free to use as many code cells as needed.\n",
    "\n",
    "#no. of images in X_web\n",
    "n_from_web = len(X_from_web)\n",
    "\n",
    "# Initialize an empty list for storing processed images\n",
    "X_web_processed = np.zeros_like((n_from_web,32,32,1))\n",
    "\n",
    "# Run web images through the pre-processing pipeline\n",
    "X_web_processed = preprocess_data(n_from_web, X_from_web)\n",
    "\n",
    "with tf.Session() as sess:\n",
    "    saver.restore(sess, tf.train.latest_checkpoint('.'))\n",
    "    preds = sess.run(predictions, feed_dict={inputs: X_web_processed, keep_prob: 1.})\n",
    "    print(\"Predictions = {}\".format(preds))"
   ]
  },
  {
   "cell_type": "code",
   "execution_count": null,
   "metadata": {
    "collapsed": true
   },
   "outputs": [],
   "source": [
    "y_labels_web = np.array([36,3,14,13,11])"
   ]
  },
  {
   "cell_type": "markdown",
   "metadata": {},
   "source": [
    "### Analyze Performance"
   ]
  },
  {
   "cell_type": "code",
   "execution_count": null,
   "metadata": {
    "collapsed": true
   },
   "outputs": [],
   "source": [
    "### Calculate the accuracy for these 5 new images. \n",
    "### For example, if the model predicted 1 out of 5 signs correctly, it's 20% accurate on these new images.\n",
    "\n",
    "with tf.Session() as sess:\n",
    "    saver.restore(sess, tf.train.latest_checkpoint('.'))\n",
    "    accuracy = sess.run(accuracy_operation, feed_dict={inputs: X_web_processed, labels: y_labels_web, keep_prob: 1.})\n",
    "    print(\"Accuracy = {:.4f}\".format(accuracy))"
   ]
  },
  {
   "cell_type": "markdown",
   "metadata": {},
   "source": [
    "### Output Top 5 Softmax Probabilities For Each Image Found on the Web"
   ]
  },
  {
   "cell_type": "markdown",
   "metadata": {},
   "source": [
    "For each of the new images, print out the model's softmax probabilities to show the **certainty** of the model's predictions (limit the output to the top 5 probabilities for each image). [`tf.nn.top_k`](https://www.tensorflow.org/versions/r0.12/api_docs/python/nn.html#top_k) could prove helpful here. \n",
    "\n",
    "The example below demonstrates how tf.nn.top_k can be used to find the top k predictions for each image.\n",
    "\n",
    "`tf.nn.top_k` will return the values and indices (class ids) of the top k predictions. So if k=3, for each sign, it'll return the 3 largest probabilities (out of a possible 43) and the correspoding class ids.\n",
    "\n",
    "Take this numpy array as an example. The values in the array represent predictions. The array contains softmax probabilities for five candidate images with six possible classes. `tk.nn.top_k` is used to choose the three classes with the highest probability:\n",
    "\n",
    "```\n",
    "# (5, 6) array\n",
    "a = np.array([[ 0.24879643,  0.07032244,  0.12641572,  0.34763842,  0.07893497,\n",
    "         0.12789202],\n",
    "       [ 0.28086119,  0.27569815,  0.08594638,  0.0178669 ,  0.18063401,\n",
    "         0.15899337],\n",
    "       [ 0.26076848,  0.23664738,  0.08020603,  0.07001922,  0.1134371 ,\n",
    "         0.23892179],\n",
    "       [ 0.11943333,  0.29198961,  0.02605103,  0.26234032,  0.1351348 ,\n",
    "         0.16505091],\n",
    "       [ 0.09561176,  0.34396535,  0.0643941 ,  0.16240774,  0.24206137,\n",
    "         0.09155967]])\n",
    "```\n",
    "\n",
    "Running it through `sess.run(tf.nn.top_k(tf.constant(a), k=3))` produces:\n",
    "\n",
    "```\n",
    "TopKV2(values=array([[ 0.34763842,  0.24879643,  0.12789202],\n",
    "       [ 0.28086119,  0.27569815,  0.18063401],\n",
    "       [ 0.26076848,  0.23892179,  0.23664738],\n",
    "       [ 0.29198961,  0.26234032,  0.16505091],\n",
    "       [ 0.34396535,  0.24206137,  0.16240774]]), indices=array([[3, 0, 5],\n",
    "       [0, 1, 4],\n",
    "       [0, 5, 1],\n",
    "       [1, 3, 5],\n",
    "       [1, 4, 3]], dtype=int32))\n",
    "```\n",
    "\n",
    "Looking just at the first row we get `[ 0.34763842,  0.24879643,  0.12789202]`, you can confirm these are the 3 largest probabilities in `a`. You'll also notice `[3, 0, 5]` are the corresponding indices."
   ]
  },
  {
   "cell_type": "code",
   "execution_count": null,
   "metadata": {
    "collapsed": true
   },
   "outputs": [],
   "source": [
    "### Print out the top five softmax probabilities for the predictions on the German traffic sign images found on the web. \n",
    "### Feel free to use as many code cells as needed.\n",
    "with tf.Session() as sess:\n",
    "    saver.restore(sess, tf.train.latest_checkpoint('.'))\n",
    "    top_k = sess.run(tf.nn.top_k(probability, k=5), feed_dict={inputs: X_web_processed, keep_prob: 1.})\n",
    "    print(\"Top 5 Softmax probabilities = {}\".format(top_k))"
   ]
  },
  {
   "cell_type": "markdown",
   "metadata": {},
   "source": [
    "### Project Writeup\n",
    "\n",
    "Once you have completed the code implementation, document your results in a project writeup using this [template](https://github.com/udacity/CarND-Traffic-Sign-Classifier-Project/blob/master/writeup_template.md) as a guide. The writeup can be in a markdown or pdf file. "
   ]
  },
  {
   "cell_type": "markdown",
   "metadata": {},
   "source": [
    "> **Note**: Once you have completed all of the code implementations and successfully answered each question above, you may finalize your work by exporting the iPython Notebook as an HTML document. You can do this by using the menu above and navigating to  \\n\",\n",
    "    \"**File -> Download as -> HTML (.html)**. Include the finished document along with this notebook as your submission."
   ]
  },
  {
   "cell_type": "markdown",
   "metadata": {},
   "source": [
    "---\n",
    "\n",
    "## Step 4 (Optional): Visualize the Neural Network's State with Test Images\n",
    "\n",
    " This Section is not required to complete but acts as an additional excersise for understaning the output of a neural network's weights. While neural networks can be a great learning device they are often referred to as a black box. We can understand what the weights of a neural network look like better by plotting their feature maps. After successfully training your neural network you can see what it's feature maps look like by plotting the output of the network's weight layers in response to a test stimuli image. From these plotted feature maps, it's possible to see what characteristics of an image the network finds interesting. For a sign, maybe the inner network feature maps react with high activation to the sign's boundary outline or to the contrast in the sign's painted symbol.\n",
    "\n",
    " Provided for you below is the function code that allows you to get the visualization output of any tensorflow weight layer you want. The inputs to the function should be a stimuli image, one used during training or a new one you provided, and then the tensorflow variable name that represents the layer's state during the training process, for instance if you wanted to see what the [LeNet lab's](https://classroom.udacity.com/nanodegrees/nd013/parts/fbf77062-5703-404e-b60c-95b78b2f3f9e/modules/6df7ae49-c61c-4bb2-a23e-6527e69209ec/lessons/601ae704-1035-4287-8b11-e2c2716217ad/concepts/d4aca031-508f-4e0b-b493-e7b706120f81) feature maps looked like for it's second convolutional layer you could enter conv2 as the tf_activation variable.\n",
    "\n",
    "For an example of what feature map outputs look like, check out NVIDIA's results in their paper [End-to-End Deep Learning for Self-Driving Cars](https://devblogs.nvidia.com/parallelforall/deep-learning-self-driving-cars/) in the section Visualization of internal CNN State. NVIDIA was able to show that their network's inner weights had high activations to road boundary lines by comparing feature maps from an image with a clear path to one without. Try experimenting with a similar test to show that your trained network's weights are looking for interesting features, whether it's looking at differences in feature maps from images with or without a sign, or even what feature maps look like in a trained network vs a completely untrained one on the same sign image.\n",
    "\n",
    "<figure>\n",
    " <img src=\"visualize_cnn.png\" width=\"380\" alt=\"Combined Image\" />\n",
    " <figcaption>\n",
    " <p></p> \n",
    " <p style=\"text-align: center;\"> Your output should look something like this (above)</p> \n",
    " </figcaption>\n",
    "</figure>\n",
    " <p></p> \n"
   ]
  },
  {
   "cell_type": "code",
   "execution_count": null,
   "metadata": {
    "collapsed": true
   },
   "outputs": [],
   "source": [
    "### Visualize your network's feature maps here.\n",
    "### Feel free to use as many code cells as needed.\n",
    "\n",
    "# image_input: the test image being fed into the network to produce the feature maps\n",
    "# tf_activation: should be a tf variable name used during your training procedure that represents the calculated state of a specific weight layer\n",
    "# activation_min/max: can be used to view the activation contrast in more detail, by default matplot sets min and max to the actual min and max values of the output\n",
    "# plt_num: used to plot out multiple different weight feature map sets on the same block, just extend the plt number for each new feature map entry\n",
    "\n",
    "def outputFeatureMap(image_input, tf_activation, activation_min=-1, activation_max=2 ,plt_num=1):\n",
    "    # Here make sure to preprocess your image_input in a way your network expects\n",
    "    # with size, normalization, ect if needed\n",
    "    image_input_pre = preprocess_data(1, image_input)\n",
    "    # Note: x should be the same name as your network's tensorflow data placeholder variable\n",
    "    # If you get an error tf_activation is not defined it may be having trouble accessing the variable from inside a function\n",
    "    with tf.Session() as sess:\n",
    "        saver.restore(sess, tf.train.latest_checkpoint('.'))\n",
    "        activation = tf_activation.eval(session=sess,feed_dict={inputs : image_input_pre})\n",
    "        featuremaps = activation.shape[3]\n",
    "        plt.figure(plt_num, figsize=(15,15))\n",
    "        for featuremap in range(featuremaps):\n",
    "            plt.subplot(6,8, featuremap+2) # sets the number of feature maps to show on each row and column\n",
    "            plt.title('FeatureMap ' + str(featuremap)) # displays the feature map number\n",
    "            if activation_min != -1 & activation_max != -1:\n",
    "                plt.imshow(activation[0,:,:, featuremap], interpolation=\"nearest\", vmin =activation_min, vmax=activation_max, cmap=\"gray\")\n",
    "            elif activation_max != -1:\n",
    "                plt.imshow(activation[0,:,:, featuremap], interpolation=\"nearest\", vmax=activation_max, cmap=\"gray\")\n",
    "            elif activation_min !=-1:\n",
    "                plt.imshow(activation[0,:,:, featuremap], interpolation=\"nearest\", vmin=activation_min, cmap=\"gray\")\n",
    "            else:\n",
    "                plt.imshow(activation[0,:,:, featuremap], interpolation=\"nearest\", cmap=\"gray\")\n",
    "        plt.subplot(6,8,1)\n",
    "        plt.title('Original Image')\n",
    "        plt.imshow(image_input)"
   ]
  },
  {
   "cell_type": "code",
   "execution_count": null,
   "metadata": {
    "collapsed": true
   },
   "outputs": [],
   "source": [
    "outputFeatureMap(X_from_web[2], conv1)"
   ]
  }
 ],
 "metadata": {
  "anaconda-cloud": {},
  "kernelspec": {
   "display_name": "Python 3",
   "language": "python",
   "name": "python3"
  },
  "language_info": {
   "codemirror_mode": {
    "name": "ipython",
    "version": 3
   },
   "file_extension": ".py",
   "mimetype": "text/x-python",
   "name": "python",
   "nbconvert_exporter": "python",
   "pygments_lexer": "ipython3",
   "version": "3.5.2"
  },
  "widgets": {
   "state": {},
   "version": "1.1.2"
  }
 },
 "nbformat": 4,
 "nbformat_minor": 1
}
